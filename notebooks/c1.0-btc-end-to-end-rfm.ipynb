{
 "cells": [
  {
   "cell_type": "markdown",
   "id": "9073085f",
   "metadata": {},
   "source": [
    "# Data Dictionary"
   ]
  },
  {
   "cell_type": "code",
   "execution_count": null,
   "id": "f3fd4761",
   "metadata": {},
   "outputs": [],
   "source": []
  },
  {
   "cell_type": "markdown",
   "id": "2609c82f",
   "metadata": {},
   "source": [
    "# 0.0 Imports"
   ]
  },
  {
   "cell_type": "code",
   "execution_count": 182,
   "id": "853d47f7-279c-4ae6-b099-cf83fc4471e9",
   "metadata": {},
   "outputs": [],
   "source": [
    "import pandas as pd\n",
    "import inflection\n",
    "from src import GeneralUtils  as gu\n",
    "import seaborn as sns\n",
    "import plotly.express as px\n",
    "from datetime import timedelta\n",
    "import matplotlib.pyplot as plt\n",
    "import plotly.express as px"
   ]
  },
  {
   "cell_type": "code",
   "execution_count": null,
   "id": "be3eeb9d",
   "metadata": {},
   "outputs": [],
   "source": [
    "def segment(score):\n",
    "    if score in [555, 554, 544, 545, 454, 455, 445]:\n",
    "        return 'Champions'\n",
    "     \n",
    "    if score in [543, 444, 435, 355, 354, 345, 344, 335]: \n",
    "        return \n",
    "    'Loyal'\n",
    "    if score in [553, 551, 552, 541, 542, 533, 532, 531, 452, 451, 442, 441, 431, 453, 433, 432, 423, 353, 352, 351, 342, 341, 333, 323]: \n",
    "        return \n",
    "    'Potential Loyalist'\n",
    "\n",
    "    if score in [512, 511, 422, 421, 412, 411, 311]: \n",
    "        return 'New Customers'\n",
    "\n",
    "    if score in [525, 524, 523, 522, 521, 515, 514, 513, 425,424, 413,414,415, 315, 314, 313]: \n",
    "        return 'Promising'\n",
    "\n",
    "    if score in [535, 534, 443, 434, 343, 334, 325, 324]: \n",
    "        return 'Need Attention'\n",
    "\n",
    "    if score in [331, 321, 312, 221, 213, 231, 241, 251]: \n",
    "        return 'About To Sleep'\n",
    "\n",
    "    if score in [255, 254, 245, 244, 253, 252, 243, 242, 235, 234, 225, 224, 153, 152, 145, 143, 142, 135, 134, 133, 125, 124]: \n",
    "        return 'At Risk'\n",
    "\n",
    "    if score in [155, 154, 144, 214,215,115, 114, 113]: \n",
    "        return 'Cannot Lose Them'\n",
    "\n",
    "    if score in [332, 322, 233, 232, 223, 222, 132, 123, 122, 212, 211]: \n",
    "        return 'Hibernating customers'\n",
    "\n",
    "    if score in [111, 112, 121, 131,141,151]: \n",
    "        return 'Lost customers'"
   ]
  },
  {
   "attachments": {},
   "cell_type": "markdown",
   "id": "4a125e8f-f4ca-40ef-8b6c-d4aae2c50319",
   "metadata": {},
   "source": [
    "# 0.1 Load Data"
   ]
  },
  {
   "cell_type": "code",
   "execution_count": 2,
   "id": "356ebf4f-339c-469b-a40a-f51ecfe7d238",
   "metadata": {},
   "outputs": [],
   "source": [
    "df_raw = pd.read_csv('../data/raw/Ecommerce.csv', encoding='ISO-8859-1')"
   ]
  },
  {
   "cell_type": "code",
   "execution_count": 3,
   "id": "e731abd4",
   "metadata": {},
   "outputs": [
    {
     "data": {
      "text/html": [
       "<div>\n",
       "<style scoped>\n",
       "    .dataframe tbody tr th:only-of-type {\n",
       "        vertical-align: middle;\n",
       "    }\n",
       "\n",
       "    .dataframe tbody tr th {\n",
       "        vertical-align: top;\n",
       "    }\n",
       "\n",
       "    .dataframe thead th {\n",
       "        text-align: right;\n",
       "    }\n",
       "</style>\n",
       "<table border=\"1\" class=\"dataframe\">\n",
       "  <thead>\n",
       "    <tr style=\"text-align: right;\">\n",
       "      <th></th>\n",
       "      <th>InvoiceNo</th>\n",
       "      <th>StockCode</th>\n",
       "      <th>Description</th>\n",
       "      <th>Quantity</th>\n",
       "      <th>InvoiceDate</th>\n",
       "      <th>UnitPrice</th>\n",
       "      <th>CustomerID</th>\n",
       "      <th>Country</th>\n",
       "      <th>Unnamed: 8</th>\n",
       "    </tr>\n",
       "  </thead>\n",
       "  <tbody>\n",
       "    <tr>\n",
       "      <th>0</th>\n",
       "      <td>536365</td>\n",
       "      <td>85123A</td>\n",
       "      <td>WHITE HANGING HEART T-LIGHT HOLDER</td>\n",
       "      <td>6</td>\n",
       "      <td>29-Nov-16</td>\n",
       "      <td>2.55</td>\n",
       "      <td>17850.0</td>\n",
       "      <td>United Kingdom</td>\n",
       "      <td>NaN</td>\n",
       "    </tr>\n",
       "    <tr>\n",
       "      <th>1</th>\n",
       "      <td>536365</td>\n",
       "      <td>71053</td>\n",
       "      <td>WHITE METAL LANTERN</td>\n",
       "      <td>6</td>\n",
       "      <td>29-Nov-16</td>\n",
       "      <td>3.39</td>\n",
       "      <td>17850.0</td>\n",
       "      <td>United Kingdom</td>\n",
       "      <td>NaN</td>\n",
       "    </tr>\n",
       "    <tr>\n",
       "      <th>2</th>\n",
       "      <td>536365</td>\n",
       "      <td>84406B</td>\n",
       "      <td>CREAM CUPID HEARTS COAT HANGER</td>\n",
       "      <td>8</td>\n",
       "      <td>29-Nov-16</td>\n",
       "      <td>2.75</td>\n",
       "      <td>17850.0</td>\n",
       "      <td>United Kingdom</td>\n",
       "      <td>NaN</td>\n",
       "    </tr>\n",
       "    <tr>\n",
       "      <th>3</th>\n",
       "      <td>536365</td>\n",
       "      <td>84029G</td>\n",
       "      <td>KNITTED UNION FLAG HOT WATER BOTTLE</td>\n",
       "      <td>6</td>\n",
       "      <td>29-Nov-16</td>\n",
       "      <td>3.39</td>\n",
       "      <td>17850.0</td>\n",
       "      <td>United Kingdom</td>\n",
       "      <td>NaN</td>\n",
       "    </tr>\n",
       "    <tr>\n",
       "      <th>4</th>\n",
       "      <td>536365</td>\n",
       "      <td>84029E</td>\n",
       "      <td>RED WOOLLY HOTTIE WHITE HEART.</td>\n",
       "      <td>6</td>\n",
       "      <td>29-Nov-16</td>\n",
       "      <td>3.39</td>\n",
       "      <td>17850.0</td>\n",
       "      <td>United Kingdom</td>\n",
       "      <td>NaN</td>\n",
       "    </tr>\n",
       "  </tbody>\n",
       "</table>\n",
       "</div>"
      ],
      "text/plain": [
       "  InvoiceNo StockCode                          Description  Quantity  \\\n",
       "0    536365    85123A   WHITE HANGING HEART T-LIGHT HOLDER         6   \n",
       "1    536365     71053                  WHITE METAL LANTERN         6   \n",
       "2    536365    84406B       CREAM CUPID HEARTS COAT HANGER         8   \n",
       "3    536365    84029G  KNITTED UNION FLAG HOT WATER BOTTLE         6   \n",
       "4    536365    84029E       RED WOOLLY HOTTIE WHITE HEART.         6   \n",
       "\n",
       "  InvoiceDate  UnitPrice  CustomerID         Country  Unnamed: 8  \n",
       "0   29-Nov-16       2.55     17850.0  United Kingdom         NaN  \n",
       "1   29-Nov-16       3.39     17850.0  United Kingdom         NaN  \n",
       "2   29-Nov-16       2.75     17850.0  United Kingdom         NaN  \n",
       "3   29-Nov-16       3.39     17850.0  United Kingdom         NaN  \n",
       "4   29-Nov-16       3.39     17850.0  United Kingdom         NaN  "
      ]
     },
     "execution_count": 3,
     "metadata": {},
     "output_type": "execute_result"
    }
   ],
   "source": [
    "df_raw.head()"
   ]
  },
  {
   "cell_type": "markdown",
   "id": "a2ba3ea1",
   "metadata": {},
   "source": [
    "![green-divider](https://user-images.githubusercontent.com/7065401/52071924-c003ad80-2562-11e9-8297-1c6595f8a7ff.png)\n"
   ]
  },
  {
   "attachments": {},
   "cell_type": "markdown",
   "id": "740d3d4b",
   "metadata": {},
   "source": [
    "# 1.0. Data Description"
   ]
  },
  {
   "cell_type": "code",
   "execution_count": 4,
   "id": "362bdcee",
   "metadata": {},
   "outputs": [],
   "source": [
    "df_description = df_raw.drop('Unnamed: 8', axis=1)"
   ]
  },
  {
   "cell_type": "code",
   "execution_count": 5,
   "id": "c1d57096",
   "metadata": {},
   "outputs": [
    {
     "data": {
      "text/html": [
       "<div>\n",
       "<style scoped>\n",
       "    .dataframe tbody tr th:only-of-type {\n",
       "        vertical-align: middle;\n",
       "    }\n",
       "\n",
       "    .dataframe tbody tr th {\n",
       "        vertical-align: top;\n",
       "    }\n",
       "\n",
       "    .dataframe thead th {\n",
       "        text-align: right;\n",
       "    }\n",
       "</style>\n",
       "<table border=\"1\" class=\"dataframe\">\n",
       "  <thead>\n",
       "    <tr style=\"text-align: right;\">\n",
       "      <th></th>\n",
       "      <th>InvoiceNo</th>\n",
       "      <th>StockCode</th>\n",
       "      <th>Description</th>\n",
       "      <th>Quantity</th>\n",
       "      <th>InvoiceDate</th>\n",
       "      <th>UnitPrice</th>\n",
       "      <th>CustomerID</th>\n",
       "      <th>Country</th>\n",
       "    </tr>\n",
       "  </thead>\n",
       "  <tbody>\n",
       "    <tr>\n",
       "      <th>0</th>\n",
       "      <td>536365</td>\n",
       "      <td>85123A</td>\n",
       "      <td>WHITE HANGING HEART T-LIGHT HOLDER</td>\n",
       "      <td>6</td>\n",
       "      <td>29-Nov-16</td>\n",
       "      <td>2.55</td>\n",
       "      <td>17850.0</td>\n",
       "      <td>United Kingdom</td>\n",
       "    </tr>\n",
       "    <tr>\n",
       "      <th>1</th>\n",
       "      <td>536365</td>\n",
       "      <td>71053</td>\n",
       "      <td>WHITE METAL LANTERN</td>\n",
       "      <td>6</td>\n",
       "      <td>29-Nov-16</td>\n",
       "      <td>3.39</td>\n",
       "      <td>17850.0</td>\n",
       "      <td>United Kingdom</td>\n",
       "    </tr>\n",
       "    <tr>\n",
       "      <th>2</th>\n",
       "      <td>536365</td>\n",
       "      <td>84406B</td>\n",
       "      <td>CREAM CUPID HEARTS COAT HANGER</td>\n",
       "      <td>8</td>\n",
       "      <td>29-Nov-16</td>\n",
       "      <td>2.75</td>\n",
       "      <td>17850.0</td>\n",
       "      <td>United Kingdom</td>\n",
       "    </tr>\n",
       "    <tr>\n",
       "      <th>3</th>\n",
       "      <td>536365</td>\n",
       "      <td>84029G</td>\n",
       "      <td>KNITTED UNION FLAG HOT WATER BOTTLE</td>\n",
       "      <td>6</td>\n",
       "      <td>29-Nov-16</td>\n",
       "      <td>3.39</td>\n",
       "      <td>17850.0</td>\n",
       "      <td>United Kingdom</td>\n",
       "    </tr>\n",
       "    <tr>\n",
       "      <th>4</th>\n",
       "      <td>536365</td>\n",
       "      <td>84029E</td>\n",
       "      <td>RED WOOLLY HOTTIE WHITE HEART.</td>\n",
       "      <td>6</td>\n",
       "      <td>29-Nov-16</td>\n",
       "      <td>3.39</td>\n",
       "      <td>17850.0</td>\n",
       "      <td>United Kingdom</td>\n",
       "    </tr>\n",
       "  </tbody>\n",
       "</table>\n",
       "</div>"
      ],
      "text/plain": [
       "  InvoiceNo StockCode                          Description  Quantity  \\\n",
       "0    536365    85123A   WHITE HANGING HEART T-LIGHT HOLDER         6   \n",
       "1    536365     71053                  WHITE METAL LANTERN         6   \n",
       "2    536365    84406B       CREAM CUPID HEARTS COAT HANGER         8   \n",
       "3    536365    84029G  KNITTED UNION FLAG HOT WATER BOTTLE         6   \n",
       "4    536365    84029E       RED WOOLLY HOTTIE WHITE HEART.         6   \n",
       "\n",
       "  InvoiceDate  UnitPrice  CustomerID         Country  \n",
       "0   29-Nov-16       2.55     17850.0  United Kingdom  \n",
       "1   29-Nov-16       3.39     17850.0  United Kingdom  \n",
       "2   29-Nov-16       2.75     17850.0  United Kingdom  \n",
       "3   29-Nov-16       3.39     17850.0  United Kingdom  \n",
       "4   29-Nov-16       3.39     17850.0  United Kingdom  "
      ]
     },
     "execution_count": 5,
     "metadata": {},
     "output_type": "execute_result"
    }
   ],
   "source": [
    "df_description.head()"
   ]
  },
  {
   "attachments": {},
   "cell_type": "markdown",
   "id": "48396720",
   "metadata": {},
   "source": [
    "## 1.1. Renaming Columns"
   ]
  },
  {
   "cell_type": "code",
   "execution_count": 6,
   "id": "a88d79f0",
   "metadata": {},
   "outputs": [],
   "source": [
    "old_cols = ['InvoiceNo', 'StockCode', 'Description', 'Quantity','InvoiceDate', 'UnitPrice', 'CustomerID', 'Country']\n",
    "\n",
    "snakecase = lambda x: inflection.underscore(x)\n",
    "new_cols = list(map(snakecase, old_cols))\n",
    "\n",
    "df_description.columns = new_cols"
   ]
  },
  {
   "cell_type": "code",
   "execution_count": 7,
   "id": "bcf4e2fa",
   "metadata": {},
   "outputs": [],
   "source": [
    "df_description['description'] = df_description['description'].str.lower()"
   ]
  },
  {
   "cell_type": "code",
   "execution_count": 8,
   "id": "cb5e17e8",
   "metadata": {},
   "outputs": [
    {
     "data": {
      "text/html": [
       "<div>\n",
       "<style scoped>\n",
       "    .dataframe tbody tr th:only-of-type {\n",
       "        vertical-align: middle;\n",
       "    }\n",
       "\n",
       "    .dataframe tbody tr th {\n",
       "        vertical-align: top;\n",
       "    }\n",
       "\n",
       "    .dataframe thead th {\n",
       "        text-align: right;\n",
       "    }\n",
       "</style>\n",
       "<table border=\"1\" class=\"dataframe\">\n",
       "  <thead>\n",
       "    <tr style=\"text-align: right;\">\n",
       "      <th></th>\n",
       "      <th>invoice_no</th>\n",
       "      <th>stock_code</th>\n",
       "      <th>description</th>\n",
       "      <th>quantity</th>\n",
       "      <th>invoice_date</th>\n",
       "      <th>unit_price</th>\n",
       "      <th>customer_id</th>\n",
       "      <th>country</th>\n",
       "    </tr>\n",
       "  </thead>\n",
       "  <tbody>\n",
       "    <tr>\n",
       "      <th>143377</th>\n",
       "      <td>548698</td>\n",
       "      <td>84988</td>\n",
       "      <td>set of 72 pink heart paper doilies</td>\n",
       "      <td>2</td>\n",
       "      <td>1-Apr-17</td>\n",
       "      <td>1.45</td>\n",
       "      <td>18109.0</td>\n",
       "      <td>United Kingdom</td>\n",
       "    </tr>\n",
       "    <tr>\n",
       "      <th>143732</th>\n",
       "      <td>548711</td>\n",
       "      <td>20752</td>\n",
       "      <td>blue polkadot washing up gloves</td>\n",
       "      <td>1</td>\n",
       "      <td>1-Apr-17</td>\n",
       "      <td>2.10</td>\n",
       "      <td>18116.0</td>\n",
       "      <td>United Kingdom</td>\n",
       "    </tr>\n",
       "    <tr>\n",
       "      <th>143733</th>\n",
       "      <td>548711</td>\n",
       "      <td>22719</td>\n",
       "      <td>gumball monochrome coat rack</td>\n",
       "      <td>1</td>\n",
       "      <td>1-Apr-17</td>\n",
       "      <td>1.25</td>\n",
       "      <td>18116.0</td>\n",
       "      <td>United Kingdom</td>\n",
       "    </tr>\n",
       "    <tr>\n",
       "      <th>143734</th>\n",
       "      <td>548711</td>\n",
       "      <td>22467</td>\n",
       "      <td>gumball coat rack</td>\n",
       "      <td>4</td>\n",
       "      <td>1-Apr-17</td>\n",
       "      <td>2.55</td>\n",
       "      <td>18116.0</td>\n",
       "      <td>United Kingdom</td>\n",
       "    </tr>\n",
       "    <tr>\n",
       "      <th>143735</th>\n",
       "      <td>548711</td>\n",
       "      <td>85014A</td>\n",
       "      <td>black/blue polkadot umbrella</td>\n",
       "      <td>1</td>\n",
       "      <td>1-Apr-17</td>\n",
       "      <td>5.95</td>\n",
       "      <td>18116.0</td>\n",
       "      <td>United Kingdom</td>\n",
       "    </tr>\n",
       "    <tr>\n",
       "      <th>...</th>\n",
       "      <td>...</td>\n",
       "      <td>...</td>\n",
       "      <td>...</td>\n",
       "      <td>...</td>\n",
       "      <td>...</td>\n",
       "      <td>...</td>\n",
       "      <td>...</td>\n",
       "      <td>...</td>\n",
       "    </tr>\n",
       "    <tr>\n",
       "      <th>334723</th>\n",
       "      <td>566267</td>\n",
       "      <td>23293</td>\n",
       "      <td>set of 12 fairy cake baking cases</td>\n",
       "      <td>8</td>\n",
       "      <td>9-Sep-17</td>\n",
       "      <td>0.83</td>\n",
       "      <td>12647.0</td>\n",
       "      <td>Germany</td>\n",
       "    </tr>\n",
       "    <tr>\n",
       "      <th>334722</th>\n",
       "      <td>566267</td>\n",
       "      <td>23296</td>\n",
       "      <td>set of 6 tea time baking cases</td>\n",
       "      <td>8</td>\n",
       "      <td>9-Sep-17</td>\n",
       "      <td>1.25</td>\n",
       "      <td>12647.0</td>\n",
       "      <td>Germany</td>\n",
       "    </tr>\n",
       "    <tr>\n",
       "      <th>334721</th>\n",
       "      <td>566267</td>\n",
       "      <td>23295</td>\n",
       "      <td>set of 12 mini loaf baking cases</td>\n",
       "      <td>8</td>\n",
       "      <td>9-Sep-17</td>\n",
       "      <td>0.83</td>\n",
       "      <td>12647.0</td>\n",
       "      <td>Germany</td>\n",
       "    </tr>\n",
       "    <tr>\n",
       "      <th>334734</th>\n",
       "      <td>566268</td>\n",
       "      <td>22189</td>\n",
       "      <td>cream heart card holder</td>\n",
       "      <td>4</td>\n",
       "      <td>9-Sep-17</td>\n",
       "      <td>3.95</td>\n",
       "      <td>13813.0</td>\n",
       "      <td>Germany</td>\n",
       "    </tr>\n",
       "    <tr>\n",
       "      <th>336084</th>\n",
       "      <td>566301</td>\n",
       "      <td>23321</td>\n",
       "      <td>small white heart of wicker</td>\n",
       "      <td>3</td>\n",
       "      <td>9-Sep-17</td>\n",
       "      <td>1.65</td>\n",
       "      <td>16474.0</td>\n",
       "      <td>United Kingdom</td>\n",
       "    </tr>\n",
       "  </tbody>\n",
       "</table>\n",
       "<p>541909 rows × 8 columns</p>\n",
       "</div>"
      ],
      "text/plain": [
       "       invoice_no stock_code                         description  quantity  \\\n",
       "143377     548698      84988  set of 72 pink heart paper doilies         2   \n",
       "143732     548711      20752     blue polkadot washing up gloves         1   \n",
       "143733     548711      22719        gumball monochrome coat rack         1   \n",
       "143734     548711      22467                   gumball coat rack         4   \n",
       "143735     548711     85014A        black/blue polkadot umbrella         1   \n",
       "...           ...        ...                                 ...       ...   \n",
       "334723     566267      23293   set of 12 fairy cake baking cases         8   \n",
       "334722     566267      23296      set of 6 tea time baking cases         8   \n",
       "334721     566267      23295    set of 12 mini loaf baking cases         8   \n",
       "334734     566268      22189             cream heart card holder         4   \n",
       "336084     566301      23321         small white heart of wicker         3   \n",
       "\n",
       "       invoice_date  unit_price  customer_id         country  \n",
       "143377     1-Apr-17        1.45      18109.0  United Kingdom  \n",
       "143732     1-Apr-17        2.10      18116.0  United Kingdom  \n",
       "143733     1-Apr-17        1.25      18116.0  United Kingdom  \n",
       "143734     1-Apr-17        2.55      18116.0  United Kingdom  \n",
       "143735     1-Apr-17        5.95      18116.0  United Kingdom  \n",
       "...             ...         ...          ...             ...  \n",
       "334723     9-Sep-17        0.83      12647.0         Germany  \n",
       "334722     9-Sep-17        1.25      12647.0         Germany  \n",
       "334721     9-Sep-17        0.83      12647.0         Germany  \n",
       "334734     9-Sep-17        3.95      13813.0         Germany  \n",
       "336084     9-Sep-17        1.65      16474.0  United Kingdom  \n",
       "\n",
       "[541909 rows x 8 columns]"
      ]
     },
     "execution_count": 8,
     "metadata": {},
     "output_type": "execute_result"
    }
   ],
   "source": [
    "df_description.sort_values('invoice_date')"
   ]
  },
  {
   "attachments": {},
   "cell_type": "markdown",
   "id": "5a5e6752",
   "metadata": {},
   "source": [
    "## 1.2. Data Dimension"
   ]
  },
  {
   "cell_type": "code",
   "execution_count": 9,
   "id": "bbbf277f",
   "metadata": {},
   "outputs": [
    {
     "name": "stdout",
     "output_type": "stream",
     "text": [
      "Number of Rows: 541909\n",
      "Number of Columnss: 8\n"
     ]
    }
   ],
   "source": [
    "print(f'Number of Rows: {df_description.shape[0]}')\n",
    "print(f'Number of Columnss: {df_description.shape[1]}')"
   ]
  },
  {
   "attachments": {},
   "cell_type": "markdown",
   "id": "b0cfcbf3",
   "metadata": {},
   "source": [
    "## 1.3. Data Types & Missing Values"
   ]
  },
  {
   "cell_type": "code",
   "execution_count": 10,
   "id": "e198406a",
   "metadata": {},
   "outputs": [
    {
     "data": {
      "text/html": [
       "<div>\n",
       "<style scoped>\n",
       "    .dataframe tbody tr th:only-of-type {\n",
       "        vertical-align: middle;\n",
       "    }\n",
       "\n",
       "    .dataframe tbody tr th {\n",
       "        vertical-align: top;\n",
       "    }\n",
       "\n",
       "    .dataframe thead th {\n",
       "        text-align: right;\n",
       "    }\n",
       "</style>\n",
       "<table border=\"1\" class=\"dataframe\">\n",
       "  <thead>\n",
       "    <tr style=\"text-align: right;\">\n",
       "      <th></th>\n",
       "      <th>Name</th>\n",
       "      <th>dtypes</th>\n",
       "      <th>Uniques</th>\n",
       "      <th>Missing</th>\n",
       "      <th>Missing %</th>\n",
       "    </tr>\n",
       "  </thead>\n",
       "  <tbody>\n",
       "    <tr>\n",
       "      <th>0</th>\n",
       "      <td>invoice_no</td>\n",
       "      <td>object</td>\n",
       "      <td>25900</td>\n",
       "      <td>0</td>\n",
       "      <td>0.00</td>\n",
       "    </tr>\n",
       "    <tr>\n",
       "      <th>1</th>\n",
       "      <td>stock_code</td>\n",
       "      <td>object</td>\n",
       "      <td>4070</td>\n",
       "      <td>0</td>\n",
       "      <td>0.00</td>\n",
       "    </tr>\n",
       "    <tr>\n",
       "      <th>2</th>\n",
       "      <td>description</td>\n",
       "      <td>object</td>\n",
       "      <td>4206</td>\n",
       "      <td>1454</td>\n",
       "      <td>0.27</td>\n",
       "    </tr>\n",
       "    <tr>\n",
       "      <th>3</th>\n",
       "      <td>quantity</td>\n",
       "      <td>int64</td>\n",
       "      <td>722</td>\n",
       "      <td>0</td>\n",
       "      <td>0.00</td>\n",
       "    </tr>\n",
       "    <tr>\n",
       "      <th>4</th>\n",
       "      <td>invoice_date</td>\n",
       "      <td>object</td>\n",
       "      <td>305</td>\n",
       "      <td>0</td>\n",
       "      <td>0.00</td>\n",
       "    </tr>\n",
       "    <tr>\n",
       "      <th>5</th>\n",
       "      <td>unit_price</td>\n",
       "      <td>float64</td>\n",
       "      <td>1630</td>\n",
       "      <td>0</td>\n",
       "      <td>0.00</td>\n",
       "    </tr>\n",
       "    <tr>\n",
       "      <th>6</th>\n",
       "      <td>customer_id</td>\n",
       "      <td>float64</td>\n",
       "      <td>4372</td>\n",
       "      <td>135080</td>\n",
       "      <td>24.93</td>\n",
       "    </tr>\n",
       "    <tr>\n",
       "      <th>7</th>\n",
       "      <td>country</td>\n",
       "      <td>object</td>\n",
       "      <td>38</td>\n",
       "      <td>0</td>\n",
       "      <td>0.00</td>\n",
       "    </tr>\n",
       "  </tbody>\n",
       "</table>\n",
       "</div>"
      ],
      "text/plain": [
       "           Name   dtypes  Uniques  Missing  Missing %\n",
       "0    invoice_no   object    25900        0       0.00\n",
       "1    stock_code   object     4070        0       0.00\n",
       "2   description   object     4206     1454       0.27\n",
       "3      quantity    int64      722        0       0.00\n",
       "4  invoice_date   object      305        0       0.00\n",
       "5    unit_price  float64     1630        0       0.00\n",
       "6   customer_id  float64     4372   135080      24.93\n",
       "7       country   object       38        0       0.00"
      ]
     },
     "execution_count": 10,
     "metadata": {},
     "output_type": "execute_result"
    }
   ],
   "source": [
    "gu.sum_table(df_description)"
   ]
  },
  {
   "attachments": {},
   "cell_type": "markdown",
   "id": "201c8e8a",
   "metadata": {},
   "source": [
    "## 1.4.  Handling Missing Values"
   ]
  },
  {
   "cell_type": "markdown",
   "id": "7dc6139f",
   "metadata": {},
   "source": [
    "Checking if there is elements with missing c"
   ]
  },
  {
   "attachments": {},
   "cell_type": "markdown",
   "id": "499c58ab",
   "metadata": {},
   "source": [
    "Checando se há invoice number dos elementos com customer id ausente em outra parte do dataset, para podermos preencher os espaços faltantes."
   ]
  },
  {
   "cell_type": "code",
   "execution_count": 11,
   "id": "6918a909",
   "metadata": {},
   "outputs": [
    {
     "data": {
      "text/html": [
       "<div>\n",
       "<style scoped>\n",
       "    .dataframe tbody tr th:only-of-type {\n",
       "        vertical-align: middle;\n",
       "    }\n",
       "\n",
       "    .dataframe tbody tr th {\n",
       "        vertical-align: top;\n",
       "    }\n",
       "\n",
       "    .dataframe thead th {\n",
       "        text-align: right;\n",
       "    }\n",
       "</style>\n",
       "<table border=\"1\" class=\"dataframe\">\n",
       "  <thead>\n",
       "    <tr style=\"text-align: right;\">\n",
       "      <th></th>\n",
       "      <th>invoice_no</th>\n",
       "      <th>stock_code</th>\n",
       "      <th>description</th>\n",
       "      <th>quantity</th>\n",
       "      <th>invoice_date</th>\n",
       "      <th>unit_price</th>\n",
       "      <th>customer_id</th>\n",
       "      <th>country</th>\n",
       "    </tr>\n",
       "  </thead>\n",
       "  <tbody>\n",
       "  </tbody>\n",
       "</table>\n",
       "</div>"
      ],
      "text/plain": [
       "Empty DataFrame\n",
       "Columns: [invoice_no, stock_code, description, quantity, invoice_date, unit_price, customer_id, country]\n",
       "Index: []"
      ]
     },
     "execution_count": 11,
     "metadata": {},
     "output_type": "execute_result"
    }
   ],
   "source": [
    "invoice_no_of_missing_customer_ids = df_description.query('customer_id.isnull()').invoice_no.values\n",
    "df_description.loc[df_description.invoice_no.isin(invoice_no_of_missing_customer_ids)].query('~customer_id.isnull()')"
   ]
  },
  {
   "cell_type": "code",
   "execution_count": 12,
   "id": "143c3671",
   "metadata": {},
   "outputs": [
    {
     "data": {
      "text/html": [
       "<div>\n",
       "<style scoped>\n",
       "    .dataframe tbody tr th:only-of-type {\n",
       "        vertical-align: middle;\n",
       "    }\n",
       "\n",
       "    .dataframe tbody tr th {\n",
       "        vertical-align: top;\n",
       "    }\n",
       "\n",
       "    .dataframe thead th {\n",
       "        text-align: right;\n",
       "    }\n",
       "</style>\n",
       "<table border=\"1\" class=\"dataframe\">\n",
       "  <thead>\n",
       "    <tr style=\"text-align: right;\">\n",
       "      <th></th>\n",
       "      <th>invoice_no</th>\n",
       "      <th>stock_code</th>\n",
       "      <th>description</th>\n",
       "      <th>quantity</th>\n",
       "      <th>invoice_date</th>\n",
       "      <th>unit_price</th>\n",
       "      <th>customer_id</th>\n",
       "      <th>country</th>\n",
       "    </tr>\n",
       "  </thead>\n",
       "  <tbody>\n",
       "    <tr>\n",
       "      <th>1443</th>\n",
       "      <td>536544</td>\n",
       "      <td>21773</td>\n",
       "      <td>decorative rose bathroom bottle</td>\n",
       "      <td>1</td>\n",
       "      <td>29-Nov-16</td>\n",
       "      <td>2.51</td>\n",
       "      <td>NaN</td>\n",
       "      <td>United Kingdom</td>\n",
       "    </tr>\n",
       "    <tr>\n",
       "      <th>1444</th>\n",
       "      <td>536544</td>\n",
       "      <td>21774</td>\n",
       "      <td>decorative cats bathroom bottle</td>\n",
       "      <td>2</td>\n",
       "      <td>29-Nov-16</td>\n",
       "      <td>2.51</td>\n",
       "      <td>NaN</td>\n",
       "      <td>United Kingdom</td>\n",
       "    </tr>\n",
       "    <tr>\n",
       "      <th>1445</th>\n",
       "      <td>536544</td>\n",
       "      <td>21786</td>\n",
       "      <td>polkadot rain hat</td>\n",
       "      <td>4</td>\n",
       "      <td>29-Nov-16</td>\n",
       "      <td>0.85</td>\n",
       "      <td>NaN</td>\n",
       "      <td>United Kingdom</td>\n",
       "    </tr>\n",
       "    <tr>\n",
       "      <th>1446</th>\n",
       "      <td>536544</td>\n",
       "      <td>21787</td>\n",
       "      <td>rain poncho retrospot</td>\n",
       "      <td>2</td>\n",
       "      <td>29-Nov-16</td>\n",
       "      <td>1.66</td>\n",
       "      <td>NaN</td>\n",
       "      <td>United Kingdom</td>\n",
       "    </tr>\n",
       "    <tr>\n",
       "      <th>1447</th>\n",
       "      <td>536544</td>\n",
       "      <td>21790</td>\n",
       "      <td>vintage snap cards</td>\n",
       "      <td>9</td>\n",
       "      <td>29-Nov-16</td>\n",
       "      <td>1.66</td>\n",
       "      <td>NaN</td>\n",
       "      <td>United Kingdom</td>\n",
       "    </tr>\n",
       "    <tr>\n",
       "      <th>...</th>\n",
       "      <td>...</td>\n",
       "      <td>...</td>\n",
       "      <td>...</td>\n",
       "      <td>...</td>\n",
       "      <td>...</td>\n",
       "      <td>...</td>\n",
       "      <td>...</td>\n",
       "      <td>...</td>\n",
       "    </tr>\n",
       "    <tr>\n",
       "      <th>1965</th>\n",
       "      <td>536544</td>\n",
       "      <td>21721</td>\n",
       "      <td>candy shop  sticker sheet</td>\n",
       "      <td>1</td>\n",
       "      <td>29-Nov-16</td>\n",
       "      <td>1.66</td>\n",
       "      <td>NaN</td>\n",
       "      <td>United Kingdom</td>\n",
       "    </tr>\n",
       "    <tr>\n",
       "      <th>1966</th>\n",
       "      <td>536544</td>\n",
       "      <td>21722</td>\n",
       "      <td>sweet pudding sticker sheet</td>\n",
       "      <td>1</td>\n",
       "      <td>29-Nov-16</td>\n",
       "      <td>1.66</td>\n",
       "      <td>NaN</td>\n",
       "      <td>United Kingdom</td>\n",
       "    </tr>\n",
       "    <tr>\n",
       "      <th>1967</th>\n",
       "      <td>536544</td>\n",
       "      <td>21731</td>\n",
       "      <td>red toadstool led night light</td>\n",
       "      <td>5</td>\n",
       "      <td>29-Nov-16</td>\n",
       "      <td>3.36</td>\n",
       "      <td>NaN</td>\n",
       "      <td>United Kingdom</td>\n",
       "    </tr>\n",
       "    <tr>\n",
       "      <th>1968</th>\n",
       "      <td>536544</td>\n",
       "      <td>21742</td>\n",
       "      <td>large round wicker platter</td>\n",
       "      <td>1</td>\n",
       "      <td>29-Nov-16</td>\n",
       "      <td>12.72</td>\n",
       "      <td>NaN</td>\n",
       "      <td>United Kingdom</td>\n",
       "    </tr>\n",
       "    <tr>\n",
       "      <th>1969</th>\n",
       "      <td>536544</td>\n",
       "      <td>21758</td>\n",
       "      <td>vintage shells print</td>\n",
       "      <td>1</td>\n",
       "      <td>29-Nov-16</td>\n",
       "      <td>12.72</td>\n",
       "      <td>NaN</td>\n",
       "      <td>United Kingdom</td>\n",
       "    </tr>\n",
       "  </tbody>\n",
       "</table>\n",
       "<p>527 rows × 8 columns</p>\n",
       "</div>"
      ],
      "text/plain": [
       "     invoice_no stock_code                      description  quantity  \\\n",
       "1443     536544      21773  decorative rose bathroom bottle         1   \n",
       "1444     536544      21774  decorative cats bathroom bottle         2   \n",
       "1445     536544      21786               polkadot rain hat          4   \n",
       "1446     536544      21787            rain poncho retrospot         2   \n",
       "1447     536544      21790               vintage snap cards         9   \n",
       "...         ...        ...                              ...       ...   \n",
       "1965     536544      21721        candy shop  sticker sheet         1   \n",
       "1966     536544      21722      sweet pudding sticker sheet         1   \n",
       "1967     536544      21731    red toadstool led night light         5   \n",
       "1968     536544      21742      large round wicker platter          1   \n",
       "1969     536544      21758             vintage shells print         1   \n",
       "\n",
       "     invoice_date  unit_price  customer_id         country  \n",
       "1443    29-Nov-16        2.51          NaN  United Kingdom  \n",
       "1444    29-Nov-16        2.51          NaN  United Kingdom  \n",
       "1445    29-Nov-16        0.85          NaN  United Kingdom  \n",
       "1446    29-Nov-16        1.66          NaN  United Kingdom  \n",
       "1447    29-Nov-16        1.66          NaN  United Kingdom  \n",
       "...           ...         ...          ...             ...  \n",
       "1965    29-Nov-16        1.66          NaN  United Kingdom  \n",
       "1966    29-Nov-16        1.66          NaN  United Kingdom  \n",
       "1967    29-Nov-16        3.36          NaN  United Kingdom  \n",
       "1968    29-Nov-16       12.72          NaN  United Kingdom  \n",
       "1969    29-Nov-16       12.72          NaN  United Kingdom  \n",
       "\n",
       "[527 rows x 8 columns]"
      ]
     },
     "execution_count": 12,
     "metadata": {},
     "output_type": "execute_result"
    }
   ],
   "source": [
    "df_description.loc[df_description.invoice_no.isin(invoice_no_of_missing_customer_ids)].query(\"invoice_no == '536544'\")"
   ]
  },
  {
   "cell_type": "code",
   "execution_count": 13,
   "id": "83da246d",
   "metadata": {},
   "outputs": [
    {
     "data": {
      "text/html": [
       "<div>\n",
       "<style scoped>\n",
       "    .dataframe tbody tr th:only-of-type {\n",
       "        vertical-align: middle;\n",
       "    }\n",
       "\n",
       "    .dataframe tbody tr th {\n",
       "        vertical-align: top;\n",
       "    }\n",
       "\n",
       "    .dataframe thead th {\n",
       "        text-align: right;\n",
       "    }\n",
       "</style>\n",
       "<table border=\"1\" class=\"dataframe\">\n",
       "  <thead>\n",
       "    <tr style=\"text-align: right;\">\n",
       "      <th></th>\n",
       "      <th>stock_code</th>\n",
       "      <th>description</th>\n",
       "      <th>quantity</th>\n",
       "      <th>invoice_date</th>\n",
       "      <th>unit_price</th>\n",
       "      <th>customer_id</th>\n",
       "      <th>country</th>\n",
       "    </tr>\n",
       "    <tr>\n",
       "      <th>invoice_no</th>\n",
       "      <th></th>\n",
       "      <th></th>\n",
       "      <th></th>\n",
       "      <th></th>\n",
       "      <th></th>\n",
       "      <th></th>\n",
       "      <th></th>\n",
       "    </tr>\n",
       "  </thead>\n",
       "  <tbody>\n",
       "    <tr>\n",
       "      <th>573585</th>\n",
       "      <td>1114</td>\n",
       "      <td>1114</td>\n",
       "      <td>1114</td>\n",
       "      <td>1114</td>\n",
       "      <td>1114</td>\n",
       "      <td>0</td>\n",
       "      <td>1114</td>\n",
       "    </tr>\n",
       "    <tr>\n",
       "      <th>581219</th>\n",
       "      <td>749</td>\n",
       "      <td>749</td>\n",
       "      <td>749</td>\n",
       "      <td>749</td>\n",
       "      <td>749</td>\n",
       "      <td>0</td>\n",
       "      <td>749</td>\n",
       "    </tr>\n",
       "    <tr>\n",
       "      <th>581492</th>\n",
       "      <td>731</td>\n",
       "      <td>731</td>\n",
       "      <td>731</td>\n",
       "      <td>731</td>\n",
       "      <td>731</td>\n",
       "      <td>0</td>\n",
       "      <td>731</td>\n",
       "    </tr>\n",
       "    <tr>\n",
       "      <th>580729</th>\n",
       "      <td>721</td>\n",
       "      <td>721</td>\n",
       "      <td>721</td>\n",
       "      <td>721</td>\n",
       "      <td>721</td>\n",
       "      <td>0</td>\n",
       "      <td>721</td>\n",
       "    </tr>\n",
       "    <tr>\n",
       "      <th>558475</th>\n",
       "      <td>705</td>\n",
       "      <td>705</td>\n",
       "      <td>705</td>\n",
       "      <td>705</td>\n",
       "      <td>705</td>\n",
       "      <td>0</td>\n",
       "      <td>705</td>\n",
       "    </tr>\n",
       "    <tr>\n",
       "      <th>...</th>\n",
       "      <td>...</td>\n",
       "      <td>...</td>\n",
       "      <td>...</td>\n",
       "      <td>...</td>\n",
       "      <td>...</td>\n",
       "      <td>...</td>\n",
       "      <td>...</td>\n",
       "    </tr>\n",
       "    <tr>\n",
       "      <th>551900</th>\n",
       "      <td>1</td>\n",
       "      <td>0</td>\n",
       "      <td>1</td>\n",
       "      <td>1</td>\n",
       "      <td>1</td>\n",
       "      <td>0</td>\n",
       "      <td>1</td>\n",
       "    </tr>\n",
       "    <tr>\n",
       "      <th>551964</th>\n",
       "      <td>1</td>\n",
       "      <td>0</td>\n",
       "      <td>1</td>\n",
       "      <td>1</td>\n",
       "      <td>1</td>\n",
       "      <td>0</td>\n",
       "      <td>1</td>\n",
       "    </tr>\n",
       "    <tr>\n",
       "      <th>551965</th>\n",
       "      <td>1</td>\n",
       "      <td>0</td>\n",
       "      <td>1</td>\n",
       "      <td>1</td>\n",
       "      <td>1</td>\n",
       "      <td>0</td>\n",
       "      <td>1</td>\n",
       "    </tr>\n",
       "    <tr>\n",
       "      <th>552006</th>\n",
       "      <td>1</td>\n",
       "      <td>1</td>\n",
       "      <td>1</td>\n",
       "      <td>1</td>\n",
       "      <td>1</td>\n",
       "      <td>0</td>\n",
       "      <td>1</td>\n",
       "    </tr>\n",
       "    <tr>\n",
       "      <th>C580605</th>\n",
       "      <td>1</td>\n",
       "      <td>1</td>\n",
       "      <td>1</td>\n",
       "      <td>1</td>\n",
       "      <td>1</td>\n",
       "      <td>0</td>\n",
       "      <td>1</td>\n",
       "    </tr>\n",
       "  </tbody>\n",
       "</table>\n",
       "<p>3710 rows × 7 columns</p>\n",
       "</div>"
      ],
      "text/plain": [
       "            stock_code  description  quantity  invoice_date  unit_price  \\\n",
       "invoice_no                                                                \n",
       "573585            1114         1114      1114          1114        1114   \n",
       "581219             749          749       749           749         749   \n",
       "581492             731          731       731           731         731   \n",
       "580729             721          721       721           721         721   \n",
       "558475             705          705       705           705         705   \n",
       "...                ...          ...       ...           ...         ...   \n",
       "551900               1            0         1             1           1   \n",
       "551964               1            0         1             1           1   \n",
       "551965               1            0         1             1           1   \n",
       "552006               1            1         1             1           1   \n",
       "C580605              1            1         1             1           1   \n",
       "\n",
       "            customer_id  country  \n",
       "invoice_no                        \n",
       "573585                0     1114  \n",
       "581219                0      749  \n",
       "581492                0      731  \n",
       "580729                0      721  \n",
       "558475                0      705  \n",
       "...                 ...      ...  \n",
       "551900                0        1  \n",
       "551964                0        1  \n",
       "551965                0        1  \n",
       "552006                0        1  \n",
       "C580605               0        1  \n",
       "\n",
       "[3710 rows x 7 columns]"
      ]
     },
     "execution_count": 13,
     "metadata": {},
     "output_type": "execute_result"
    }
   ],
   "source": [
    "df_description.loc[df_description.invoice_no.isin(invoice_no_of_missing_customer_ids)].groupby('invoice_no').count().sort_values('country', ascending=False)"
   ]
  },
  {
   "cell_type": "code",
   "execution_count": 14,
   "id": "b4a2c9ef",
   "metadata": {},
   "outputs": [
    {
     "data": {
      "text/plain": [
       "0         17850.0\n",
       "1         17850.0\n",
       "2         17850.0\n",
       "3         17850.0\n",
       "4         17850.0\n",
       "           ...   \n",
       "541904    12680.0\n",
       "541905    12680.0\n",
       "541906    12680.0\n",
       "541907    12680.0\n",
       "541908    12680.0\n",
       "Name: customer_id, Length: 541909, dtype: float64"
      ]
     },
     "execution_count": 14,
     "metadata": {},
     "output_type": "execute_result"
    }
   ],
   "source": [
    "df_description.customer_id"
   ]
  },
  {
   "cell_type": "code",
   "execution_count": 15,
   "id": "f9d99316",
   "metadata": {},
   "outputs": [],
   "source": [
    "# description\n",
    "df_description = df_description.dropna(subset='description', axis=0)"
   ]
  },
  {
   "cell_type": "code",
   "execution_count": 16,
   "id": "1c516fe6",
   "metadata": {},
   "outputs": [],
   "source": [
    "df_clean = df_description .dropna(subset='customer_id', axis=0)"
   ]
  },
  {
   "attachments": {},
   "cell_type": "markdown",
   "id": "3951a098",
   "metadata": {},
   "source": [
    "## 1.5. Fixing Data Types"
   ]
  },
  {
   "cell_type": "code",
   "execution_count": 17,
   "id": "0bbe166b",
   "metadata": {},
   "outputs": [
    {
     "name": "stderr",
     "output_type": "stream",
     "text": [
      "C:\\Users\\Bteix\\AppData\\Local\\Temp\\ipykernel_10944\\3702405254.py:1: SettingWithCopyWarning: \n",
      "A value is trying to be set on a copy of a slice from a DataFrame.\n",
      "Try using .loc[row_indexer,col_indexer] = value instead\n",
      "\n",
      "See the caveats in the documentation: https://pandas.pydata.org/pandas-docs/stable/user_guide/indexing.html#returning-a-view-versus-a-copy\n",
      "  df_clean.invoice_date = pd.to_datetime(df_clean.invoice_date)\n",
      "C:\\Users\\Bteix\\AppData\\Local\\Temp\\ipykernel_10944\\3702405254.py:2: SettingWithCopyWarning: \n",
      "A value is trying to be set on a copy of a slice from a DataFrame.\n",
      "Try using .loc[row_indexer,col_indexer] = value instead\n",
      "\n",
      "See the caveats in the documentation: https://pandas.pydata.org/pandas-docs/stable/user_guide/indexing.html#returning-a-view-versus-a-copy\n",
      "  df_clean.customer_id = df_clean.customer_id.astype(object)\n"
     ]
    }
   ],
   "source": [
    "df_clean.invoice_date = pd.to_datetime(df_clean.invoice_date)\n",
    "df_clean.customer_id = df_clean.customer_id.astype(object)"
   ]
  },
  {
   "attachments": {},
   "cell_type": "markdown",
   "id": "88510dc2",
   "metadata": {},
   "source": [
    "## 1.6. Descriptive Statistic"
   ]
  },
  {
   "attachments": {},
   "cell_type": "markdown",
   "id": "ed06eeee",
   "metadata": {},
   "source": [
    "### 1.6.1. Numerical Variables"
   ]
  },
  {
   "cell_type": "code",
   "execution_count": 18,
   "id": "b000ffa5",
   "metadata": {},
   "outputs": [],
   "source": [
    "num_att = df_clean.select_dtypes(include=['float64', 'int64'])"
   ]
  },
  {
   "cell_type": "code",
   "execution_count": 19,
   "id": "3f6da48c",
   "metadata": {},
   "outputs": [
    {
     "data": {
      "text/html": [
       "<div>\n",
       "<style scoped>\n",
       "    .dataframe tbody tr th:only-of-type {\n",
       "        vertical-align: middle;\n",
       "    }\n",
       "\n",
       "    .dataframe tbody tr th {\n",
       "        vertical-align: top;\n",
       "    }\n",
       "\n",
       "    .dataframe thead th {\n",
       "        text-align: right;\n",
       "    }\n",
       "</style>\n",
       "<table border=\"1\" class=\"dataframe\">\n",
       "  <thead>\n",
       "    <tr style=\"text-align: right;\">\n",
       "      <th></th>\n",
       "      <th>Attributes</th>\n",
       "      <th>min</th>\n",
       "      <th>max</th>\n",
       "      <th>range</th>\n",
       "      <th>mean</th>\n",
       "      <th>median</th>\n",
       "      <th>var</th>\n",
       "      <th>std</th>\n",
       "      <th>skew</th>\n",
       "      <th>kurtosis</th>\n",
       "    </tr>\n",
       "  </thead>\n",
       "  <tbody>\n",
       "    <tr>\n",
       "      <th>0</th>\n",
       "      <td>quantity</td>\n",
       "      <td>-80995.0</td>\n",
       "      <td>80995.0</td>\n",
       "      <td>161990.0</td>\n",
       "      <td>12.061303</td>\n",
       "      <td>5.00</td>\n",
       "      <td>61848.392291</td>\n",
       "      <td>248.693370</td>\n",
       "      <td>0.182663</td>\n",
       "      <td>94317.563673</td>\n",
       "    </tr>\n",
       "    <tr>\n",
       "      <th>1</th>\n",
       "      <td>unit_price</td>\n",
       "      <td>0.0</td>\n",
       "      <td>38970.0</td>\n",
       "      <td>38970.0</td>\n",
       "      <td>3.460471</td>\n",
       "      <td>1.95</td>\n",
       "      <td>4804.591645</td>\n",
       "      <td>69.315162</td>\n",
       "      <td>452.219019</td>\n",
       "      <td>246924.542988</td>\n",
       "    </tr>\n",
       "  </tbody>\n",
       "</table>\n",
       "</div>"
      ],
      "text/plain": [
       "   Attributes      min      max     range       mean  median           var  \\\n",
       "0    quantity -80995.0  80995.0  161990.0  12.061303    5.00  61848.392291   \n",
       "1  unit_price      0.0  38970.0   38970.0   3.460471    1.95   4804.591645   \n",
       "\n",
       "          std        skew       kurtosis  \n",
       "0  248.693370    0.182663   94317.563673  \n",
       "1   69.315162  452.219019  246924.542988  "
      ]
     },
     "execution_count": 19,
     "metadata": {},
     "output_type": "execute_result"
    }
   ],
   "source": [
    "num_att.agg(['min', 'max', 'ptp', 'mean', 'median', 'var', 'std', 'skew', 'kurtosis']).T.reset_index().rename(columns={'index': 'Attributes', 'ptp': 'range'})"
   ]
  },
  {
   "cell_type": "code",
   "execution_count": 20,
   "id": "9c7af328",
   "metadata": {},
   "outputs": [
    {
     "data": {
      "text/html": [
       "<div>\n",
       "<style scoped>\n",
       "    .dataframe tbody tr th:only-of-type {\n",
       "        vertical-align: middle;\n",
       "    }\n",
       "\n",
       "    .dataframe tbody tr th {\n",
       "        vertical-align: top;\n",
       "    }\n",
       "\n",
       "    .dataframe thead th {\n",
       "        text-align: right;\n",
       "    }\n",
       "</style>\n",
       "<table border=\"1\" class=\"dataframe\">\n",
       "  <thead>\n",
       "    <tr style=\"text-align: right;\">\n",
       "      <th></th>\n",
       "      <th>count</th>\n",
       "      <th>mean</th>\n",
       "      <th>std</th>\n",
       "      <th>min</th>\n",
       "      <th>1%</th>\n",
       "      <th>5%</th>\n",
       "      <th>10%</th>\n",
       "      <th>20%</th>\n",
       "      <th>50%</th>\n",
       "      <th>80%</th>\n",
       "      <th>90%</th>\n",
       "      <th>95%</th>\n",
       "      <th>99%</th>\n",
       "      <th>max</th>\n",
       "    </tr>\n",
       "  </thead>\n",
       "  <tbody>\n",
       "    <tr>\n",
       "      <th>quantity</th>\n",
       "      <td>406829.0</td>\n",
       "      <td>12.061303</td>\n",
       "      <td>248.693370</td>\n",
       "      <td>-80995.0</td>\n",
       "      <td>-2.00</td>\n",
       "      <td>1.00</td>\n",
       "      <td>1.00</td>\n",
       "      <td>1.00</td>\n",
       "      <td>5.00</td>\n",
       "      <td>12.00</td>\n",
       "      <td>24.00</td>\n",
       "      <td>36.0</td>\n",
       "      <td>120.0</td>\n",
       "      <td>80995.0</td>\n",
       "    </tr>\n",
       "    <tr>\n",
       "      <th>unit_price</th>\n",
       "      <td>406829.0</td>\n",
       "      <td>3.460471</td>\n",
       "      <td>69.315162</td>\n",
       "      <td>0.0</td>\n",
       "      <td>0.21</td>\n",
       "      <td>0.42</td>\n",
       "      <td>0.55</td>\n",
       "      <td>0.85</td>\n",
       "      <td>1.95</td>\n",
       "      <td>4.15</td>\n",
       "      <td>6.75</td>\n",
       "      <td>8.5</td>\n",
       "      <td>15.0</td>\n",
       "      <td>38970.0</td>\n",
       "    </tr>\n",
       "  </tbody>\n",
       "</table>\n",
       "</div>"
      ],
      "text/plain": [
       "               count       mean         std      min    1%    5%   10%   20%  \\\n",
       "quantity    406829.0  12.061303  248.693370 -80995.0 -2.00  1.00  1.00  1.00   \n",
       "unit_price  406829.0   3.460471   69.315162      0.0  0.21  0.42  0.55  0.85   \n",
       "\n",
       "             50%    80%    90%   95%    99%      max  \n",
       "quantity    5.00  12.00  24.00  36.0  120.0  80995.0  \n",
       "unit_price  1.95   4.15   6.75   8.5   15.0  38970.0  "
      ]
     },
     "execution_count": 20,
     "metadata": {},
     "output_type": "execute_result"
    }
   ],
   "source": [
    "num_att.describe([0.01, 0.05, 0.10, 0.20, 0.80, 0.90, 0.95, 0.99])[['quantity', 'unit_price']].T"
   ]
  },
  {
   "cell_type": "markdown",
   "id": "1e231935",
   "metadata": {},
   "source": [
    "sns.histplot(df_clean.quantity)"
   ]
  },
  {
   "cell_type": "code",
   "execution_count": null,
   "id": "64883a40",
   "metadata": {},
   "outputs": [],
   "source": []
  },
  {
   "attachments": {},
   "cell_type": "markdown",
   "id": "fb5e674d",
   "metadata": {},
   "source": [
    "Negative quantities are impossible so, first we will turn it into positive number and then we analyze outliers."
   ]
  },
  {
   "cell_type": "code",
   "execution_count": 22,
   "id": "1659fd46",
   "metadata": {},
   "outputs": [
    {
     "name": "stderr",
     "output_type": "stream",
     "text": [
      "C:\\Users\\Bteix\\AppData\\Local\\Temp\\ipykernel_10944\\1036948296.py:1: SettingWithCopyWarning: \n",
      "A value is trying to be set on a copy of a slice from a DataFrame.\n",
      "Try using .loc[row_indexer,col_indexer] = value instead\n",
      "\n",
      "See the caveats in the documentation: https://pandas.pydata.org/pandas-docs/stable/user_guide/indexing.html#returning-a-view-versus-a-copy\n",
      "  df_clean['quantity'] = df_clean['quantity'].apply(lambda x: -1 * x if x < 0 else x)\n"
     ]
    }
   ],
   "source": [
    "df_clean['quantity'] = df_clean['quantity'].apply(lambda x: -1 * x if x < 0 else x)"
   ]
  },
  {
   "cell_type": "code",
   "execution_count": 28,
   "id": "bdc101ce",
   "metadata": {},
   "outputs": [
    {
     "data": {
      "text/html": [
       "<div>\n",
       "<style scoped>\n",
       "    .dataframe tbody tr th:only-of-type {\n",
       "        vertical-align: middle;\n",
       "    }\n",
       "\n",
       "    .dataframe tbody tr th {\n",
       "        vertical-align: top;\n",
       "    }\n",
       "\n",
       "    .dataframe thead th {\n",
       "        text-align: right;\n",
       "    }\n",
       "</style>\n",
       "<table border=\"1\" class=\"dataframe\">\n",
       "  <thead>\n",
       "    <tr style=\"text-align: right;\">\n",
       "      <th></th>\n",
       "      <th>invoice_no</th>\n",
       "      <th>stock_code</th>\n",
       "      <th>description</th>\n",
       "      <th>quantity</th>\n",
       "      <th>invoice_date</th>\n",
       "      <th>unit_price</th>\n",
       "      <th>customer_id</th>\n",
       "      <th>country</th>\n",
       "    </tr>\n",
       "  </thead>\n",
       "  <tbody>\n",
       "    <tr>\n",
       "      <th>421601</th>\n",
       "      <td>573003</td>\n",
       "      <td>23084</td>\n",
       "      <td>rabbit night light</td>\n",
       "      <td>2400</td>\n",
       "      <td>2017-10-25</td>\n",
       "      <td>2.08</td>\n",
       "      <td>14646.0</td>\n",
       "      <td>Netherlands</td>\n",
       "    </tr>\n",
       "    <tr>\n",
       "      <th>91772</th>\n",
       "      <td>544152</td>\n",
       "      <td>18007</td>\n",
       "      <td>essential balm 3.5g tin in envelope</td>\n",
       "      <td>2400</td>\n",
       "      <td>2017-02-14</td>\n",
       "      <td>0.06</td>\n",
       "      <td>14609.0</td>\n",
       "      <td>United Kingdom</td>\n",
       "    </tr>\n",
       "    <tr>\n",
       "      <th>80742</th>\n",
       "      <td>543057</td>\n",
       "      <td>84077</td>\n",
       "      <td>world war 2 gliders asstd designs</td>\n",
       "      <td>2592</td>\n",
       "      <td>2017-02-01</td>\n",
       "      <td>0.21</td>\n",
       "      <td>16333.0</td>\n",
       "      <td>United Kingdom</td>\n",
       "    </tr>\n",
       "    <tr>\n",
       "      <th>201149</th>\n",
       "      <td>554272</td>\n",
       "      <td>21977</td>\n",
       "      <td>pack of 60 pink paisley cake cases</td>\n",
       "      <td>2700</td>\n",
       "      <td>2017-05-21</td>\n",
       "      <td>0.42</td>\n",
       "      <td>12901.0</td>\n",
       "      <td>United Kingdom</td>\n",
       "    </tr>\n",
       "    <tr>\n",
       "      <th>291249</th>\n",
       "      <td>562439</td>\n",
       "      <td>84879</td>\n",
       "      <td>assorted colour bird ornament</td>\n",
       "      <td>2880</td>\n",
       "      <td>2017-08-02</td>\n",
       "      <td>1.45</td>\n",
       "      <td>12931.0</td>\n",
       "      <td>United Kingdom</td>\n",
       "    </tr>\n",
       "    <tr>\n",
       "      <th>4945</th>\n",
       "      <td>536830</td>\n",
       "      <td>84077</td>\n",
       "      <td>world war 2 gliders asstd designs</td>\n",
       "      <td>2880</td>\n",
       "      <td>2016-11-30</td>\n",
       "      <td>0.18</td>\n",
       "      <td>16754.0</td>\n",
       "      <td>United Kingdom</td>\n",
       "    </tr>\n",
       "    <tr>\n",
       "      <th>433788</th>\n",
       "      <td>573995</td>\n",
       "      <td>16014</td>\n",
       "      <td>small chinese style scissor</td>\n",
       "      <td>3000</td>\n",
       "      <td>2017-10-31</td>\n",
       "      <td>0.32</td>\n",
       "      <td>16308.0</td>\n",
       "      <td>United Kingdom</td>\n",
       "    </tr>\n",
       "    <tr>\n",
       "      <th>160546</th>\n",
       "      <td>550461</td>\n",
       "      <td>21108</td>\n",
       "      <td>fairy cake flannel assorted colour</td>\n",
       "      <td>3114</td>\n",
       "      <td>2017-04-16</td>\n",
       "      <td>2.10</td>\n",
       "      <td>15749.0</td>\n",
       "      <td>United Kingdom</td>\n",
       "    </tr>\n",
       "    <tr>\n",
       "      <th>160145</th>\n",
       "      <td>C550456</td>\n",
       "      <td>21108</td>\n",
       "      <td>fairy cake flannel assorted colour</td>\n",
       "      <td>3114</td>\n",
       "      <td>2017-04-16</td>\n",
       "      <td>2.10</td>\n",
       "      <td>15749.0</td>\n",
       "      <td>United Kingdom</td>\n",
       "    </tr>\n",
       "    <tr>\n",
       "      <th>52711</th>\n",
       "      <td>540815</td>\n",
       "      <td>21108</td>\n",
       "      <td>fairy cake flannel assorted colour</td>\n",
       "      <td>3114</td>\n",
       "      <td>2017-01-09</td>\n",
       "      <td>2.10</td>\n",
       "      <td>15749.0</td>\n",
       "      <td>United Kingdom</td>\n",
       "    </tr>\n",
       "    <tr>\n",
       "      <th>270885</th>\n",
       "      <td>560599</td>\n",
       "      <td>18007</td>\n",
       "      <td>essential balm 3.5g tin in envelope</td>\n",
       "      <td>3186</td>\n",
       "      <td>2017-07-17</td>\n",
       "      <td>0.06</td>\n",
       "      <td>14609.0</td>\n",
       "      <td>United Kingdom</td>\n",
       "    </tr>\n",
       "    <tr>\n",
       "      <th>97432</th>\n",
       "      <td>544612</td>\n",
       "      <td>22053</td>\n",
       "      <td>empire design rosette</td>\n",
       "      <td>3906</td>\n",
       "      <td>2017-02-20</td>\n",
       "      <td>0.82</td>\n",
       "      <td>18087.0</td>\n",
       "      <td>United Kingdom</td>\n",
       "    </tr>\n",
       "    <tr>\n",
       "      <th>206121</th>\n",
       "      <td>554868</td>\n",
       "      <td>22197</td>\n",
       "      <td>small popcorn holder</td>\n",
       "      <td>4300</td>\n",
       "      <td>2017-05-25</td>\n",
       "      <td>0.72</td>\n",
       "      <td>13135.0</td>\n",
       "      <td>United Kingdom</td>\n",
       "    </tr>\n",
       "    <tr>\n",
       "      <th>421632</th>\n",
       "      <td>573008</td>\n",
       "      <td>84077</td>\n",
       "      <td>world war 2 gliders asstd designs</td>\n",
       "      <td>4800</td>\n",
       "      <td>2017-10-25</td>\n",
       "      <td>0.21</td>\n",
       "      <td>12901.0</td>\n",
       "      <td>United Kingdom</td>\n",
       "    </tr>\n",
       "    <tr>\n",
       "      <th>4287</th>\n",
       "      <td>C536757</td>\n",
       "      <td>84347</td>\n",
       "      <td>rotating silver angels t-light hldr</td>\n",
       "      <td>9360</td>\n",
       "      <td>2016-11-30</td>\n",
       "      <td>0.03</td>\n",
       "      <td>15838.0</td>\n",
       "      <td>United Kingdom</td>\n",
       "    </tr>\n",
       "    <tr>\n",
       "      <th>502122</th>\n",
       "      <td>578841</td>\n",
       "      <td>84826</td>\n",
       "      <td>asstd design 3d paper stickers</td>\n",
       "      <td>12540</td>\n",
       "      <td>2017-11-23</td>\n",
       "      <td>0.00</td>\n",
       "      <td>13256.0</td>\n",
       "      <td>United Kingdom</td>\n",
       "    </tr>\n",
       "    <tr>\n",
       "      <th>61624</th>\n",
       "      <td>C541433</td>\n",
       "      <td>23166</td>\n",
       "      <td>medium ceramic top storage jar</td>\n",
       "      <td>74215</td>\n",
       "      <td>2017-01-16</td>\n",
       "      <td>1.04</td>\n",
       "      <td>12346.0</td>\n",
       "      <td>United Kingdom</td>\n",
       "    </tr>\n",
       "    <tr>\n",
       "      <th>61619</th>\n",
       "      <td>541431</td>\n",
       "      <td>23166</td>\n",
       "      <td>medium ceramic top storage jar</td>\n",
       "      <td>74215</td>\n",
       "      <td>2017-01-16</td>\n",
       "      <td>1.04</td>\n",
       "      <td>12346.0</td>\n",
       "      <td>United Kingdom</td>\n",
       "    </tr>\n",
       "    <tr>\n",
       "      <th>540421</th>\n",
       "      <td>581483</td>\n",
       "      <td>23843</td>\n",
       "      <td>paper craft , little birdie</td>\n",
       "      <td>80995</td>\n",
       "      <td>2017-12-07</td>\n",
       "      <td>2.08</td>\n",
       "      <td>16446.0</td>\n",
       "      <td>United Kingdom</td>\n",
       "    </tr>\n",
       "    <tr>\n",
       "      <th>540422</th>\n",
       "      <td>C581484</td>\n",
       "      <td>23843</td>\n",
       "      <td>paper craft , little birdie</td>\n",
       "      <td>80995</td>\n",
       "      <td>2017-12-07</td>\n",
       "      <td>2.08</td>\n",
       "      <td>16446.0</td>\n",
       "      <td>United Kingdom</td>\n",
       "    </tr>\n",
       "  </tbody>\n",
       "</table>\n",
       "</div>"
      ],
      "text/plain": [
       "       invoice_no stock_code                          description  quantity  \\\n",
       "421601     573003      23084                   rabbit night light      2400   \n",
       "91772      544152      18007  essential balm 3.5g tin in envelope      2400   \n",
       "80742      543057      84077    world war 2 gliders asstd designs      2592   \n",
       "201149     554272      21977   pack of 60 pink paisley cake cases      2700   \n",
       "291249     562439      84879        assorted colour bird ornament      2880   \n",
       "4945       536830      84077    world war 2 gliders asstd designs      2880   \n",
       "433788     573995      16014          small chinese style scissor      3000   \n",
       "160546     550461      21108   fairy cake flannel assorted colour      3114   \n",
       "160145    C550456      21108   fairy cake flannel assorted colour      3114   \n",
       "52711      540815      21108   fairy cake flannel assorted colour      3114   \n",
       "270885     560599      18007  essential balm 3.5g tin in envelope      3186   \n",
       "97432      544612      22053                empire design rosette      3906   \n",
       "206121     554868      22197                 small popcorn holder      4300   \n",
       "421632     573008      84077    world war 2 gliders asstd designs      4800   \n",
       "4287      C536757      84347  rotating silver angels t-light hldr      9360   \n",
       "502122     578841      84826       asstd design 3d paper stickers     12540   \n",
       "61624     C541433      23166       medium ceramic top storage jar     74215   \n",
       "61619      541431      23166       medium ceramic top storage jar     74215   \n",
       "540421     581483      23843          paper craft , little birdie     80995   \n",
       "540422    C581484      23843          paper craft , little birdie     80995   \n",
       "\n",
       "       invoice_date  unit_price customer_id         country  \n",
       "421601   2017-10-25        2.08     14646.0     Netherlands  \n",
       "91772    2017-02-14        0.06     14609.0  United Kingdom  \n",
       "80742    2017-02-01        0.21     16333.0  United Kingdom  \n",
       "201149   2017-05-21        0.42     12901.0  United Kingdom  \n",
       "291249   2017-08-02        1.45     12931.0  United Kingdom  \n",
       "4945     2016-11-30        0.18     16754.0  United Kingdom  \n",
       "433788   2017-10-31        0.32     16308.0  United Kingdom  \n",
       "160546   2017-04-16        2.10     15749.0  United Kingdom  \n",
       "160145   2017-04-16        2.10     15749.0  United Kingdom  \n",
       "52711    2017-01-09        2.10     15749.0  United Kingdom  \n",
       "270885   2017-07-17        0.06     14609.0  United Kingdom  \n",
       "97432    2017-02-20        0.82     18087.0  United Kingdom  \n",
       "206121   2017-05-25        0.72     13135.0  United Kingdom  \n",
       "421632   2017-10-25        0.21     12901.0  United Kingdom  \n",
       "4287     2016-11-30        0.03     15838.0  United Kingdom  \n",
       "502122   2017-11-23        0.00     13256.0  United Kingdom  \n",
       "61624    2017-01-16        1.04     12346.0  United Kingdom  \n",
       "61619    2017-01-16        1.04     12346.0  United Kingdom  \n",
       "540421   2017-12-07        2.08     16446.0  United Kingdom  \n",
       "540422   2017-12-07        2.08     16446.0  United Kingdom  "
      ]
     },
     "execution_count": 28,
     "metadata": {},
     "output_type": "execute_result"
    }
   ],
   "source": [
    "df_clean.query('quantity > 120').sort_values('quantity').tail(20)"
   ]
  },
  {
   "cell_type": "markdown",
   "id": "ac5d45f4",
   "metadata": {},
   "source": [
    "![green-divider](https://user-images.githubusercontent.com/7065401/52071924-c003ad80-2562-11e9-8297-1c6595f8a7ff.png)\n"
   ]
  },
  {
   "attachments": {},
   "cell_type": "markdown",
   "id": "34c998d9",
   "metadata": {},
   "source": [
    "# 2.0. Feature Engineering"
   ]
  },
  {
   "cell_type": "code",
   "execution_count": 185,
   "id": "c19e2982",
   "metadata": {},
   "outputs": [],
   "source": [
    "df_feature = df_clean.copy()"
   ]
  },
  {
   "cell_type": "code",
   "execution_count": 186,
   "id": "746377e6",
   "metadata": {},
   "outputs": [],
   "source": [
    "df_feature['total_spent'] = df_feature.quantity * df_feature.unit_price\n"
   ]
  },
  {
   "cell_type": "code",
   "execution_count": 187,
   "id": "8dd3fd3c",
   "metadata": {},
   "outputs": [],
   "source": [
    "# Recency\n",
    "diff = df_feature.invoice_date.max() - df_feature.groupby('customer_id').max()['invoice_date']\n",
    "recency = pd.DataFrame(diff).reset_index().rename(columns={'invoice_date': 'recency'})\n",
    "\n",
    "recency['recency'] = recency['recency'].dt.days\n",
    "\n",
    "df_feature = df_feature.merge((recency), how='inner', on='customer_id')\n",
    "\n",
    "\n",
    "# Frequency\n",
    "frequency = df_feature.groupby('customer_id').count()[['invoice_no']].reset_index().rename(columns={'invoice_no': 'frequency'})\n",
    "df_feature = df_feature.merge((frequency), how='inner', on='customer_id')\n",
    "\n",
    "# Monetary\n",
    "monetary = df_feature.groupby('customer_id').mean(numeric_only=True).total_spent.reset_index().rename(columns={'total_spent': 'monetary'})\n",
    "df_feature = df_feature.merge((monetary), how='inner', on='customer_id')"
   ]
  },
  {
   "cell_type": "code",
   "execution_count": 188,
   "id": "4e0564a6",
   "metadata": {},
   "outputs": [
    {
     "data": {
      "text/html": [
       "<div>\n",
       "<style scoped>\n",
       "    .dataframe tbody tr th:only-of-type {\n",
       "        vertical-align: middle;\n",
       "    }\n",
       "\n",
       "    .dataframe tbody tr th {\n",
       "        vertical-align: top;\n",
       "    }\n",
       "\n",
       "    .dataframe thead th {\n",
       "        text-align: right;\n",
       "    }\n",
       "</style>\n",
       "<table border=\"1\" class=\"dataframe\">\n",
       "  <thead>\n",
       "    <tr style=\"text-align: right;\">\n",
       "      <th></th>\n",
       "      <th>invoice_no</th>\n",
       "      <th>stock_code</th>\n",
       "      <th>description</th>\n",
       "      <th>quantity</th>\n",
       "      <th>invoice_date</th>\n",
       "      <th>unit_price</th>\n",
       "      <th>customer_id</th>\n",
       "      <th>country</th>\n",
       "      <th>total_spent</th>\n",
       "      <th>recency</th>\n",
       "      <th>frequency</th>\n",
       "      <th>monetary</th>\n",
       "    </tr>\n",
       "  </thead>\n",
       "  <tbody>\n",
       "    <tr>\n",
       "      <th>0</th>\n",
       "      <td>536365</td>\n",
       "      <td>85123A</td>\n",
       "      <td>white hanging heart t-light holder</td>\n",
       "      <td>6</td>\n",
       "      <td>2016-11-29</td>\n",
       "      <td>2.55</td>\n",
       "      <td>17850.0</td>\n",
       "      <td>United Kingdom</td>\n",
       "      <td>15.30</td>\n",
       "      <td>302</td>\n",
       "      <td>312</td>\n",
       "      <td>17.608301</td>\n",
       "    </tr>\n",
       "    <tr>\n",
       "      <th>1</th>\n",
       "      <td>536365</td>\n",
       "      <td>71053</td>\n",
       "      <td>white metal lantern</td>\n",
       "      <td>6</td>\n",
       "      <td>2016-11-29</td>\n",
       "      <td>3.39</td>\n",
       "      <td>17850.0</td>\n",
       "      <td>United Kingdom</td>\n",
       "      <td>20.34</td>\n",
       "      <td>302</td>\n",
       "      <td>312</td>\n",
       "      <td>17.608301</td>\n",
       "    </tr>\n",
       "    <tr>\n",
       "      <th>2</th>\n",
       "      <td>536365</td>\n",
       "      <td>84406B</td>\n",
       "      <td>cream cupid hearts coat hanger</td>\n",
       "      <td>8</td>\n",
       "      <td>2016-11-29</td>\n",
       "      <td>2.75</td>\n",
       "      <td>17850.0</td>\n",
       "      <td>United Kingdom</td>\n",
       "      <td>22.00</td>\n",
       "      <td>302</td>\n",
       "      <td>312</td>\n",
       "      <td>17.608301</td>\n",
       "    </tr>\n",
       "    <tr>\n",
       "      <th>3</th>\n",
       "      <td>536365</td>\n",
       "      <td>84029G</td>\n",
       "      <td>knitted union flag hot water bottle</td>\n",
       "      <td>6</td>\n",
       "      <td>2016-11-29</td>\n",
       "      <td>3.39</td>\n",
       "      <td>17850.0</td>\n",
       "      <td>United Kingdom</td>\n",
       "      <td>20.34</td>\n",
       "      <td>302</td>\n",
       "      <td>312</td>\n",
       "      <td>17.608301</td>\n",
       "    </tr>\n",
       "    <tr>\n",
       "      <th>4</th>\n",
       "      <td>536365</td>\n",
       "      <td>84029E</td>\n",
       "      <td>red woolly hottie white heart.</td>\n",
       "      <td>6</td>\n",
       "      <td>2016-11-29</td>\n",
       "      <td>3.39</td>\n",
       "      <td>17850.0</td>\n",
       "      <td>United Kingdom</td>\n",
       "      <td>20.34</td>\n",
       "      <td>302</td>\n",
       "      <td>312</td>\n",
       "      <td>17.608301</td>\n",
       "    </tr>\n",
       "  </tbody>\n",
       "</table>\n",
       "</div>"
      ],
      "text/plain": [
       "  invoice_no stock_code                          description  quantity  \\\n",
       "0     536365     85123A   white hanging heart t-light holder         6   \n",
       "1     536365      71053                  white metal lantern         6   \n",
       "2     536365     84406B       cream cupid hearts coat hanger         8   \n",
       "3     536365     84029G  knitted union flag hot water bottle         6   \n",
       "4     536365     84029E       red woolly hottie white heart.         6   \n",
       "\n",
       "  invoice_date  unit_price customer_id         country  total_spent  recency  \\\n",
       "0   2016-11-29        2.55     17850.0  United Kingdom        15.30      302   \n",
       "1   2016-11-29        3.39     17850.0  United Kingdom        20.34      302   \n",
       "2   2016-11-29        2.75     17850.0  United Kingdom        22.00      302   \n",
       "3   2016-11-29        3.39     17850.0  United Kingdom        20.34      302   \n",
       "4   2016-11-29        3.39     17850.0  United Kingdom        20.34      302   \n",
       "\n",
       "   frequency   monetary  \n",
       "0        312  17.608301  \n",
       "1        312  17.608301  \n",
       "2        312  17.608301  \n",
       "3        312  17.608301  \n",
       "4        312  17.608301  "
      ]
     },
     "execution_count": 188,
     "metadata": {},
     "output_type": "execute_result"
    }
   ],
   "source": [
    "df_feature.head()"
   ]
  },
  {
   "cell_type": "markdown",
   "id": "0c78f3c9",
   "metadata": {},
   "source": [
    "![green-divider](https://user-images.githubusercontent.com/7065401/52071924-c003ad80-2562-11e9-8297-1c6595f8a7ff.png)\n"
   ]
  },
  {
   "attachments": {},
   "cell_type": "markdown",
   "id": "e807dd22",
   "metadata": {},
   "source": [
    "# 3.0. Data Filtering"
   ]
  },
  {
   "cell_type": "code",
   "execution_count": 189,
   "id": "2c9f2fe2",
   "metadata": {},
   "outputs": [
    {
     "data": {
      "text/html": [
       "<div>\n",
       "<style scoped>\n",
       "    .dataframe tbody tr th:only-of-type {\n",
       "        vertical-align: middle;\n",
       "    }\n",
       "\n",
       "    .dataframe tbody tr th {\n",
       "        vertical-align: top;\n",
       "    }\n",
       "\n",
       "    .dataframe thead th {\n",
       "        text-align: right;\n",
       "    }\n",
       "</style>\n",
       "<table border=\"1\" class=\"dataframe\">\n",
       "  <thead>\n",
       "    <tr style=\"text-align: right;\">\n",
       "      <th></th>\n",
       "      <th>customer_id</th>\n",
       "      <th>recency</th>\n",
       "      <th>frequency</th>\n",
       "      <th>monetary</th>\n",
       "    </tr>\n",
       "  </thead>\n",
       "  <tbody>\n",
       "    <tr>\n",
       "      <th>0</th>\n",
       "      <td>17850.0</td>\n",
       "      <td>302</td>\n",
       "      <td>312</td>\n",
       "      <td>17.608301</td>\n",
       "    </tr>\n",
       "    <tr>\n",
       "      <th>1</th>\n",
       "      <td>17850.0</td>\n",
       "      <td>302</td>\n",
       "      <td>312</td>\n",
       "      <td>17.608301</td>\n",
       "    </tr>\n",
       "    <tr>\n",
       "      <th>2</th>\n",
       "      <td>17850.0</td>\n",
       "      <td>302</td>\n",
       "      <td>312</td>\n",
       "      <td>17.608301</td>\n",
       "    </tr>\n",
       "    <tr>\n",
       "      <th>3</th>\n",
       "      <td>17850.0</td>\n",
       "      <td>302</td>\n",
       "      <td>312</td>\n",
       "      <td>17.608301</td>\n",
       "    </tr>\n",
       "    <tr>\n",
       "      <th>4</th>\n",
       "      <td>17850.0</td>\n",
       "      <td>302</td>\n",
       "      <td>312</td>\n",
       "      <td>17.608301</td>\n",
       "    </tr>\n",
       "  </tbody>\n",
       "</table>\n",
       "</div>"
      ],
      "text/plain": [
       "  customer_id  recency  frequency   monetary\n",
       "0     17850.0      302        312  17.608301\n",
       "1     17850.0      302        312  17.608301\n",
       "2     17850.0      302        312  17.608301\n",
       "3     17850.0      302        312  17.608301\n",
       "4     17850.0      302        312  17.608301"
      ]
     },
     "execution_count": 189,
     "metadata": {},
     "output_type": "execute_result"
    }
   ],
   "source": [
    "df_rfm = df_feature.copy()[['customer_id', 'recency', 'frequency', 'monetary']]\n",
    "df_rfm.head()"
   ]
  },
  {
   "cell_type": "code",
   "execution_count": 190,
   "id": "f6c2f769",
   "metadata": {},
   "outputs": [],
   "source": [
    "customers_rfm = df_rfm.drop_duplicates('customer_id')"
   ]
  },
  {
   "cell_type": "markdown",
   "id": "53a086f3",
   "metadata": {},
   "source": [
    "![green-divider](https://user-images.githubusercontent.com/7065401/52071924-c003ad80-2562-11e9-8297-1c6595f8a7ff.png)\n"
   ]
  },
  {
   "attachments": {},
   "cell_type": "markdown",
   "id": "cf7cbd0a",
   "metadata": {},
   "source": [
    "# 4.0. RFM Analysis"
   ]
  },
  {
   "cell_type": "code",
   "execution_count": 191,
   "id": "2729c00a",
   "metadata": {},
   "outputs": [],
   "source": [
    "import warnings\n",
    "warnings.filterwarnings('ignore')"
   ]
  },
  {
   "cell_type": "markdown",
   "id": "a7127730",
   "metadata": {},
   "source": [
    "## 4.1. Recency score"
   ]
  },
  {
   "cell_type": "code",
   "execution_count": 192,
   "id": "8496a61f",
   "metadata": {},
   "outputs": [],
   "source": [
    "scores = dict(zip(pd.qcut(customers_rfm.recency, q=5).unique().sort_values(), [5, 4, 3, 2, 1]))\n",
    "\n",
    "customers_rfm['recency_score'] = pd.qcut(customers_rfm.recency, q=5)\n",
    "\n",
    "customers_rfm['recency_score'] = customers_rfm['recency_score'].map(scores)"
   ]
  },
  {
   "cell_type": "code",
   "execution_count": 193,
   "id": "97cad6cb",
   "metadata": {},
   "outputs": [
    {
     "data": {
      "text/html": [
       "<div>\n",
       "<style scoped>\n",
       "    .dataframe tbody tr th:only-of-type {\n",
       "        vertical-align: middle;\n",
       "    }\n",
       "\n",
       "    .dataframe tbody tr th {\n",
       "        vertical-align: top;\n",
       "    }\n",
       "\n",
       "    .dataframe thead th {\n",
       "        text-align: right;\n",
       "    }\n",
       "</style>\n",
       "<table border=\"1\" class=\"dataframe\">\n",
       "  <thead>\n",
       "    <tr style=\"text-align: right;\">\n",
       "      <th></th>\n",
       "      <th>customer_id</th>\n",
       "      <th>recency</th>\n",
       "      <th>frequency</th>\n",
       "      <th>monetary</th>\n",
       "      <th>recency_score</th>\n",
       "    </tr>\n",
       "  </thead>\n",
       "  <tbody>\n",
       "    <tr>\n",
       "      <th>406791</th>\n",
       "      <td>12713.0</td>\n",
       "      <td>0</td>\n",
       "      <td>38</td>\n",
       "      <td>22.330263</td>\n",
       "      <td>5</td>\n",
       "    </tr>\n",
       "    <tr>\n",
       "      <th>398126</th>\n",
       "      <td>12985.0</td>\n",
       "      <td>0</td>\n",
       "      <td>78</td>\n",
       "      <td>16.194103</td>\n",
       "      <td>5</td>\n",
       "    </tr>\n",
       "    <tr>\n",
       "      <th>11488</th>\n",
       "      <td>12748.0</td>\n",
       "      <td>0</td>\n",
       "      <td>4642</td>\n",
       "      <td>8.265265</td>\n",
       "      <td>5</td>\n",
       "    </tr>\n",
       "    <tr>\n",
       "      <th>66621</th>\n",
       "      <td>13069.0</td>\n",
       "      <td>0</td>\n",
       "      <td>470</td>\n",
       "      <td>10.966851</td>\n",
       "      <td>5</td>\n",
       "    </tr>\n",
       "    <tr>\n",
       "      <th>156895</th>\n",
       "      <td>13426.0</td>\n",
       "      <td>0</td>\n",
       "      <td>159</td>\n",
       "      <td>23.471321</td>\n",
       "      <td>5</td>\n",
       "    </tr>\n",
       "    <tr>\n",
       "      <th>...</th>\n",
       "      <td>...</td>\n",
       "      <td>...</td>\n",
       "      <td>...</td>\n",
       "      <td>...</td>\n",
       "      <td>...</td>\n",
       "    </tr>\n",
       "    <tr>\n",
       "      <th>35139</th>\n",
       "      <td>14142.0</td>\n",
       "      <td>373</td>\n",
       "      <td>22</td>\n",
       "      <td>14.173182</td>\n",
       "      <td>1</td>\n",
       "    </tr>\n",
       "    <tr>\n",
       "      <th>35315</th>\n",
       "      <td>13065.0</td>\n",
       "      <td>373</td>\n",
       "      <td>14</td>\n",
       "      <td>14.704286</td>\n",
       "      <td>1</td>\n",
       "    </tr>\n",
       "    <tr>\n",
       "      <th>38394</th>\n",
       "      <td>18011.0</td>\n",
       "      <td>373</td>\n",
       "      <td>28</td>\n",
       "      <td>3.671071</td>\n",
       "      <td>1</td>\n",
       "    </tr>\n",
       "    <tr>\n",
       "      <th>10614</th>\n",
       "      <td>17968.0</td>\n",
       "      <td>373</td>\n",
       "      <td>85</td>\n",
       "      <td>3.262941</td>\n",
       "      <td>1</td>\n",
       "    </tr>\n",
       "    <tr>\n",
       "      <th>34085</th>\n",
       "      <td>16274.0</td>\n",
       "      <td>373</td>\n",
       "      <td>67</td>\n",
       "      <td>5.342537</td>\n",
       "      <td>1</td>\n",
       "    </tr>\n",
       "  </tbody>\n",
       "</table>\n",
       "<p>4372 rows × 5 columns</p>\n",
       "</div>"
      ],
      "text/plain": [
       "       customer_id  recency  frequency   monetary recency_score\n",
       "406791     12713.0        0         38  22.330263             5\n",
       "398126     12985.0        0         78  16.194103             5\n",
       "11488      12748.0        0       4642   8.265265             5\n",
       "66621      13069.0        0        470  10.966851             5\n",
       "156895     13426.0        0        159  23.471321             5\n",
       "...            ...      ...        ...        ...           ...\n",
       "35139      14142.0      373         22  14.173182             1\n",
       "35315      13065.0      373         14  14.704286             1\n",
       "38394      18011.0      373         28   3.671071             1\n",
       "10614      17968.0      373         85   3.262941             1\n",
       "34085      16274.0      373         67   5.342537             1\n",
       "\n",
       "[4372 rows x 5 columns]"
      ]
     },
     "execution_count": 193,
     "metadata": {},
     "output_type": "execute_result"
    }
   ],
   "source": [
    "customers_rfm.sort_values('recency', ascending=True)"
   ]
  },
  {
   "attachments": {},
   "cell_type": "markdown",
   "id": "de1d7a69",
   "metadata": {},
   "source": [
    "## 4.2. Frequency score"
   ]
  },
  {
   "cell_type": "code",
   "execution_count": 194,
   "id": "298c3334",
   "metadata": {},
   "outputs": [],
   "source": [
    "scores = dict(zip(pd.qcut(customers_rfm.frequency, q=5).unique().sort_values(), [1, 2, 3, 4, 5]))\n",
    "\n",
    "customers_rfm['frequency_score'] = pd.qcut(customers_rfm.frequency, q=5)\n",
    "\n",
    "customers_rfm['frequency_score'] = customers_rfm['frequency_score'].map(scores)"
   ]
  },
  {
   "cell_type": "code",
   "execution_count": 195,
   "id": "715f3460",
   "metadata": {},
   "outputs": [
    {
     "data": {
      "text/html": [
       "<div>\n",
       "<style scoped>\n",
       "    .dataframe tbody tr th:only-of-type {\n",
       "        vertical-align: middle;\n",
       "    }\n",
       "\n",
       "    .dataframe tbody tr th {\n",
       "        vertical-align: top;\n",
       "    }\n",
       "\n",
       "    .dataframe thead th {\n",
       "        text-align: right;\n",
       "    }\n",
       "</style>\n",
       "<table border=\"1\" class=\"dataframe\">\n",
       "  <thead>\n",
       "    <tr style=\"text-align: right;\">\n",
       "      <th></th>\n",
       "      <th>customer_id</th>\n",
       "      <th>recency</th>\n",
       "      <th>frequency</th>\n",
       "      <th>monetary</th>\n",
       "      <th>recency_score</th>\n",
       "      <th>frequency_score</th>\n",
       "    </tr>\n",
       "  </thead>\n",
       "  <tbody>\n",
       "    <tr>\n",
       "      <th>23690</th>\n",
       "      <td>17841.0</td>\n",
       "      <td>1</td>\n",
       "      <td>7983</td>\n",
       "      <td>5.216380</td>\n",
       "      <td>5</td>\n",
       "      <td>5</td>\n",
       "    </tr>\n",
       "    <tr>\n",
       "      <th>17676</th>\n",
       "      <td>14911.0</td>\n",
       "      <td>1</td>\n",
       "      <td>5903</td>\n",
       "      <td>26.270964</td>\n",
       "      <td>5</td>\n",
       "      <td>5</td>\n",
       "    </tr>\n",
       "    <tr>\n",
       "      <th>357065</th>\n",
       "      <td>14096.0</td>\n",
       "      <td>4</td>\n",
       "      <td>5128</td>\n",
       "      <td>14.276262</td>\n",
       "      <td>5</td>\n",
       "      <td>5</td>\n",
       "    </tr>\n",
       "    <tr>\n",
       "      <th>11488</th>\n",
       "      <td>12748.0</td>\n",
       "      <td>0</td>\n",
       "      <td>4642</td>\n",
       "      <td>8.265265</td>\n",
       "      <td>5</td>\n",
       "      <td>5</td>\n",
       "    </tr>\n",
       "    <tr>\n",
       "      <th>35329</th>\n",
       "      <td>14606.0</td>\n",
       "      <td>1</td>\n",
       "      <td>2782</td>\n",
       "      <td>4.528918</td>\n",
       "      <td>5</td>\n",
       "      <td>5</td>\n",
       "    </tr>\n",
       "    <tr>\n",
       "      <th>...</th>\n",
       "      <td>...</td>\n",
       "      <td>...</td>\n",
       "      <td>...</td>\n",
       "      <td>...</td>\n",
       "      <td>...</td>\n",
       "      <td>...</td>\n",
       "    </tr>\n",
       "    <tr>\n",
       "      <th>42390</th>\n",
       "      <td>15070.0</td>\n",
       "      <td>372</td>\n",
       "      <td>1</td>\n",
       "      <td>106.200000</td>\n",
       "      <td>1</td>\n",
       "      <td>1</td>\n",
       "    </tr>\n",
       "    <tr>\n",
       "      <th>236478</th>\n",
       "      <td>15753.0</td>\n",
       "      <td>304</td>\n",
       "      <td>1</td>\n",
       "      <td>79.200000</td>\n",
       "      <td>1</td>\n",
       "      <td>1</td>\n",
       "    </tr>\n",
       "    <tr>\n",
       "      <th>344307</th>\n",
       "      <td>17065.0</td>\n",
       "      <td>143</td>\n",
       "      <td>1</td>\n",
       "      <td>112.350000</td>\n",
       "      <td>2</td>\n",
       "      <td>1</td>\n",
       "    </tr>\n",
       "    <tr>\n",
       "      <th>378020</th>\n",
       "      <td>16881.0</td>\n",
       "      <td>66</td>\n",
       "      <td>1</td>\n",
       "      <td>432.000000</td>\n",
       "      <td>3</td>\n",
       "      <td>1</td>\n",
       "    </tr>\n",
       "    <tr>\n",
       "      <th>51084</th>\n",
       "      <td>16995.0</td>\n",
       "      <td>372</td>\n",
       "      <td>1</td>\n",
       "      <td>1.250000</td>\n",
       "      <td>1</td>\n",
       "      <td>1</td>\n",
       "    </tr>\n",
       "  </tbody>\n",
       "</table>\n",
       "<p>4372 rows × 6 columns</p>\n",
       "</div>"
      ],
      "text/plain": [
       "       customer_id  recency  frequency    monetary recency_score  \\\n",
       "23690      17841.0        1       7983    5.216380             5   \n",
       "17676      14911.0        1       5903   26.270964             5   \n",
       "357065     14096.0        4       5128   14.276262             5   \n",
       "11488      12748.0        0       4642    8.265265             5   \n",
       "35329      14606.0        1       2782    4.528918             5   \n",
       "...            ...      ...        ...         ...           ...   \n",
       "42390      15070.0      372          1  106.200000             1   \n",
       "236478     15753.0      304          1   79.200000             1   \n",
       "344307     17065.0      143          1  112.350000             2   \n",
       "378020     16881.0       66          1  432.000000             3   \n",
       "51084      16995.0      372          1    1.250000             1   \n",
       "\n",
       "       frequency_score  \n",
       "23690                5  \n",
       "17676                5  \n",
       "357065               5  \n",
       "11488                5  \n",
       "35329                5  \n",
       "...                ...  \n",
       "42390                1  \n",
       "236478               1  \n",
       "344307               1  \n",
       "378020               1  \n",
       "51084                1  \n",
       "\n",
       "[4372 rows x 6 columns]"
      ]
     },
     "execution_count": 195,
     "metadata": {},
     "output_type": "execute_result"
    }
   ],
   "source": [
    "customers_rfm.sort_values('frequency', ascending=False)"
   ]
  },
  {
   "attachments": {},
   "cell_type": "markdown",
   "id": "cfca190e",
   "metadata": {},
   "source": [
    "## 4.1. Monetary score"
   ]
  },
  {
   "cell_type": "code",
   "execution_count": 196,
   "id": "ac55e301",
   "metadata": {},
   "outputs": [],
   "source": [
    "scores = dict(zip(pd.qcut(customers_rfm.monetary, q=5).unique().sort_values(), [1, 2, 3, 4, 5]))\n",
    "\n",
    "customers_rfm['monetary_score'] = pd.qcut(customers_rfm.monetary, q=5)\n",
    "\n",
    "customers_rfm['monetary_score'] = customers_rfm['monetary_score'].map(scores)"
   ]
  },
  {
   "cell_type": "code",
   "execution_count": 201,
   "id": "8691da3d",
   "metadata": {},
   "outputs": [],
   "source": [
    "customers_rfm['rfm_score'] = customers_rfm[['recency_score', 'frequency_score', 'monetary_score']].apply(lambda x: f\"{x['recency_score']}{x['frequency_score']}{x['monetary_score']}\", axis=1)"
   ]
  },
  {
   "cell_type": "code",
   "execution_count": 203,
   "id": "6e1ea276",
   "metadata": {},
   "outputs": [
    {
     "data": {
      "text/html": [
       "<div>\n",
       "<style scoped>\n",
       "    .dataframe tbody tr th:only-of-type {\n",
       "        vertical-align: middle;\n",
       "    }\n",
       "\n",
       "    .dataframe tbody tr th {\n",
       "        vertical-align: top;\n",
       "    }\n",
       "\n",
       "    .dataframe thead th {\n",
       "        text-align: right;\n",
       "    }\n",
       "</style>\n",
       "<table border=\"1\" class=\"dataframe\">\n",
       "  <thead>\n",
       "    <tr style=\"text-align: right;\">\n",
       "      <th></th>\n",
       "      <th>customer_id</th>\n",
       "      <th>recency</th>\n",
       "      <th>frequency</th>\n",
       "      <th>monetary</th>\n",
       "      <th>recency_score</th>\n",
       "      <th>frequency_score</th>\n",
       "      <th>monetary_score</th>\n",
       "      <th>rfm_score</th>\n",
       "    </tr>\n",
       "  </thead>\n",
       "  <tbody>\n",
       "    <tr>\n",
       "      <th>0</th>\n",
       "      <td>17850.0</td>\n",
       "      <td>302</td>\n",
       "      <td>312</td>\n",
       "      <td>17.608301</td>\n",
       "      <td>1</td>\n",
       "      <td>5</td>\n",
       "      <td>3</td>\n",
       "      <td>153</td>\n",
       "    </tr>\n",
       "    <tr>\n",
       "      <th>312</th>\n",
       "      <td>13047.0</td>\n",
       "      <td>31</td>\n",
       "      <td>196</td>\n",
       "      <td>17.326429</td>\n",
       "      <td>4</td>\n",
       "      <td>5</td>\n",
       "      <td>3</td>\n",
       "      <td>453</td>\n",
       "    </tr>\n",
       "    <tr>\n",
       "      <th>508</th>\n",
       "      <td>12583.0</td>\n",
       "      <td>2</td>\n",
       "      <td>251</td>\n",
       "      <td>29.384143</td>\n",
       "      <td>5</td>\n",
       "      <td>5</td>\n",
       "      <td>5</td>\n",
       "      <td>555</td>\n",
       "    </tr>\n",
       "    <tr>\n",
       "      <th>759</th>\n",
       "      <td>13748.0</td>\n",
       "      <td>95</td>\n",
       "      <td>28</td>\n",
       "      <td>33.866071</td>\n",
       "      <td>2</td>\n",
       "      <td>2</td>\n",
       "      <td>5</td>\n",
       "      <td>225</td>\n",
       "    </tr>\n",
       "    <tr>\n",
       "      <th>787</th>\n",
       "      <td>15100.0</td>\n",
       "      <td>330</td>\n",
       "      <td>6</td>\n",
       "      <td>186.150000</td>\n",
       "      <td>1</td>\n",
       "      <td>1</td>\n",
       "      <td>5</td>\n",
       "      <td>115</td>\n",
       "    </tr>\n",
       "    <tr>\n",
       "      <th>...</th>\n",
       "      <td>...</td>\n",
       "      <td>...</td>\n",
       "      <td>...</td>\n",
       "      <td>...</td>\n",
       "      <td>...</td>\n",
       "      <td>...</td>\n",
       "      <td>...</td>\n",
       "      <td>...</td>\n",
       "    </tr>\n",
       "    <tr>\n",
       "      <th>406747</th>\n",
       "      <td>13436.0</td>\n",
       "      <td>1</td>\n",
       "      <td>12</td>\n",
       "      <td>16.407500</td>\n",
       "      <td>5</td>\n",
       "      <td>1</td>\n",
       "      <td>3</td>\n",
       "      <td>513</td>\n",
       "    </tr>\n",
       "    <tr>\n",
       "      <th>406759</th>\n",
       "      <td>15520.0</td>\n",
       "      <td>1</td>\n",
       "      <td>18</td>\n",
       "      <td>19.083333</td>\n",
       "      <td>5</td>\n",
       "      <td>2</td>\n",
       "      <td>3</td>\n",
       "      <td>523</td>\n",
       "    </tr>\n",
       "    <tr>\n",
       "      <th>406777</th>\n",
       "      <td>13298.0</td>\n",
       "      <td>1</td>\n",
       "      <td>2</td>\n",
       "      <td>180.000000</td>\n",
       "      <td>5</td>\n",
       "      <td>1</td>\n",
       "      <td>5</td>\n",
       "      <td>515</td>\n",
       "    </tr>\n",
       "    <tr>\n",
       "      <th>406779</th>\n",
       "      <td>14569.0</td>\n",
       "      <td>1</td>\n",
       "      <td>12</td>\n",
       "      <td>18.949167</td>\n",
       "      <td>5</td>\n",
       "      <td>1</td>\n",
       "      <td>3</td>\n",
       "      <td>513</td>\n",
       "    </tr>\n",
       "    <tr>\n",
       "      <th>406791</th>\n",
       "      <td>12713.0</td>\n",
       "      <td>0</td>\n",
       "      <td>38</td>\n",
       "      <td>22.330263</td>\n",
       "      <td>5</td>\n",
       "      <td>3</td>\n",
       "      <td>4</td>\n",
       "      <td>534</td>\n",
       "    </tr>\n",
       "  </tbody>\n",
       "</table>\n",
       "<p>4372 rows × 8 columns</p>\n",
       "</div>"
      ],
      "text/plain": [
       "       customer_id  recency  frequency    monetary recency_score  \\\n",
       "0          17850.0      302        312   17.608301             1   \n",
       "312        13047.0       31        196   17.326429             4   \n",
       "508        12583.0        2        251   29.384143             5   \n",
       "759        13748.0       95         28   33.866071             2   \n",
       "787        15100.0      330          6  186.150000             1   \n",
       "...            ...      ...        ...         ...           ...   \n",
       "406747     13436.0        1         12   16.407500             5   \n",
       "406759     15520.0        1         18   19.083333             5   \n",
       "406777     13298.0        1          2  180.000000             5   \n",
       "406779     14569.0        1         12   18.949167             5   \n",
       "406791     12713.0        0         38   22.330263             5   \n",
       "\n",
       "       frequency_score monetary_score rfm_score  \n",
       "0                    5              3       153  \n",
       "312                  5              3       453  \n",
       "508                  5              5       555  \n",
       "759                  2              5       225  \n",
       "787                  1              5       115  \n",
       "...                ...            ...       ...  \n",
       "406747               1              3       513  \n",
       "406759               2              3       523  \n",
       "406777               1              5       515  \n",
       "406779               1              3       513  \n",
       "406791               3              4       534  \n",
       "\n",
       "[4372 rows x 8 columns]"
      ]
     },
     "execution_count": 203,
     "metadata": {},
     "output_type": "execute_result"
    }
   ],
   "source": [
    "customers_rfm"
   ]
  },
  {
   "cell_type": "markdown",
   "id": "b58fdd74",
   "metadata": {},
   "source": [
    "![green-divider](https://user-images.githubusercontent.com/7065401/52071924-c003ad80-2562-11e9-8297-1c6595f8a7ff.png)\n"
   ]
  },
  {
   "attachments": {},
   "cell_type": "markdown",
   "id": "b6b1b08e",
   "metadata": {},
   "source": [
    "# 5.0. Segmentation"
   ]
  },
  {
   "cell_type": "code",
   "execution_count": 204,
   "id": "08b9e54a",
   "metadata": {},
   "outputs": [],
   "source": [
    "df_seg = customers_rfm.copy()[['customer_id', 'rfm_score']]\n"
   ]
  },
  {
   "attachments": {},
   "cell_type": "markdown",
   "id": "cfddb7d3",
   "metadata": {},
   "source": [
    "|Segment|Scores|\n",
    "|--------|-------|\n",
    "Champions|\t555, 554, 544, 545, 454, 455, 445\n",
    "Loyal|\t543, 444, 435, 355, 354, 345, 344, 335\n",
    "Potential Loyalist|\t553, 551, 552, 541, 542, 533, 532, 531, 452, 451, 442, 441, 431, 453, 433, 432, 423, 353, 352, 351, 342, 341, 333, 323\n",
    "New Customers|\t512, 511, 422, 421 412, 411, 311\n",
    "Promising|\t525, 524, 523, 522, 521, 515, 514, 513, 425,424, 413,414,415, 315, 314, 313\n",
    "Need Attention|\t535, 534, 443, 434, 343, 334, 325, 324\n",
    "About To Sleep|\t331, 321, 312, 221, 213, 231, 241, 251\n",
    "At Risk|\t255, 254, 245, 244, 253, 252, 243, 242, 235, 234, 225, 224, 153, 152, 145, 143, 142, 135, 134, 133, 125, 124\n",
    "Cannot Lose Them|\t155, 154, 144, 214,215,115, 114, 113\n",
    "Hibernating customers|\t332, 322, 233, 232, 223, 222, 132, 123, 122, 212, 211\n",
    "Lost customers|\t111, 112, 121, 131,141,151"
   ]
  },
  {
   "cell_type": "code",
   "execution_count": 214,
   "id": "2df858cf",
   "metadata": {},
   "outputs": [],
   "source": [
    "df_seg.rfm_score = df_seg.rfm_score.astype('int')\n",
    "df_seg['segment'] = df_seg['rfm_score'].apply(lambda x: segment(x))"
   ]
  },
  {
   "cell_type": "code",
   "execution_count": 222,
   "id": "a751e292",
   "metadata": {},
   "outputs": [
    {
     "data": {
      "text/html": [
       "<div>\n",
       "<style scoped>\n",
       "    .dataframe tbody tr th:only-of-type {\n",
       "        vertical-align: middle;\n",
       "    }\n",
       "\n",
       "    .dataframe tbody tr th {\n",
       "        vertical-align: top;\n",
       "    }\n",
       "\n",
       "    .dataframe thead th {\n",
       "        text-align: right;\n",
       "    }\n",
       "</style>\n",
       "<table border=\"1\" class=\"dataframe\">\n",
       "  <thead>\n",
       "    <tr style=\"text-align: right;\">\n",
       "      <th></th>\n",
       "      <th>customer_id</th>\n",
       "      <th>rfm_score</th>\n",
       "      <th>segment</th>\n",
       "    </tr>\n",
       "  </thead>\n",
       "  <tbody>\n",
       "    <tr>\n",
       "      <th>0</th>\n",
       "      <td>17850.0</td>\n",
       "      <td>153</td>\n",
       "      <td>At Risk</td>\n",
       "    </tr>\n",
       "    <tr>\n",
       "      <th>312</th>\n",
       "      <td>13047.0</td>\n",
       "      <td>453</td>\n",
       "      <td>None</td>\n",
       "    </tr>\n",
       "    <tr>\n",
       "      <th>508</th>\n",
       "      <td>12583.0</td>\n",
       "      <td>555</td>\n",
       "      <td>Champions</td>\n",
       "    </tr>\n",
       "    <tr>\n",
       "      <th>759</th>\n",
       "      <td>13748.0</td>\n",
       "      <td>225</td>\n",
       "      <td>At Risk</td>\n",
       "    </tr>\n",
       "    <tr>\n",
       "      <th>787</th>\n",
       "      <td>15100.0</td>\n",
       "      <td>115</td>\n",
       "      <td>Cannot Lose Them</td>\n",
       "    </tr>\n",
       "    <tr>\n",
       "      <th>...</th>\n",
       "      <td>...</td>\n",
       "      <td>...</td>\n",
       "      <td>...</td>\n",
       "    </tr>\n",
       "    <tr>\n",
       "      <th>406747</th>\n",
       "      <td>13436.0</td>\n",
       "      <td>513</td>\n",
       "      <td>Promising</td>\n",
       "    </tr>\n",
       "    <tr>\n",
       "      <th>406759</th>\n",
       "      <td>15520.0</td>\n",
       "      <td>523</td>\n",
       "      <td>Promising</td>\n",
       "    </tr>\n",
       "    <tr>\n",
       "      <th>406777</th>\n",
       "      <td>13298.0</td>\n",
       "      <td>515</td>\n",
       "      <td>Promising</td>\n",
       "    </tr>\n",
       "    <tr>\n",
       "      <th>406779</th>\n",
       "      <td>14569.0</td>\n",
       "      <td>513</td>\n",
       "      <td>Promising</td>\n",
       "    </tr>\n",
       "    <tr>\n",
       "      <th>406791</th>\n",
       "      <td>12713.0</td>\n",
       "      <td>534</td>\n",
       "      <td>Need Attention</td>\n",
       "    </tr>\n",
       "  </tbody>\n",
       "</table>\n",
       "<p>4372 rows × 3 columns</p>\n",
       "</div>"
      ],
      "text/plain": [
       "       customer_id  rfm_score           segment\n",
       "0          17850.0        153           At Risk\n",
       "312        13047.0        453              None\n",
       "508        12583.0        555         Champions\n",
       "759        13748.0        225           At Risk\n",
       "787        15100.0        115  Cannot Lose Them\n",
       "...            ...        ...               ...\n",
       "406747     13436.0        513         Promising\n",
       "406759     15520.0        523         Promising\n",
       "406777     13298.0        515         Promising\n",
       "406779     14569.0        513         Promising\n",
       "406791     12713.0        534    Need Attention\n",
       "\n",
       "[4372 rows x 3 columns]"
      ]
     },
     "execution_count": 222,
     "metadata": {},
     "output_type": "execute_result"
    }
   ],
   "source": [
    "df_seg"
   ]
  },
  {
   "cell_type": "code",
   "execution_count": 239,
   "id": "4ac915ba",
   "metadata": {},
   "outputs": [
    {
     "data": {
      "application/vnd.plotly.v1+json": {
       "config": {
        "plotlyServerURL": "https://plot.ly"
       },
       "data": [
        {
         "alignmentgroup": "True",
         "hovertemplate": "segment=%{x}<br>Number of Customers=%{y}<extra></extra>",
         "legendgroup": "About To Sleep",
         "marker": {
          "color": "#636efa",
          "pattern": {
           "shape": ""
          }
         },
         "name": "About To Sleep",
         "offsetgroup": "About To Sleep",
         "orientation": "v",
         "showlegend": true,
         "textposition": "auto",
         "type": "bar",
         "x": [
          "About To Sleep"
         ],
         "xaxis": "x",
         "y": [
          255
         ],
         "yaxis": "y"
        },
        {
         "alignmentgroup": "True",
         "hovertemplate": "segment=%{x}<br>Number of Customers=%{y}<extra></extra>",
         "legendgroup": "At Risk",
         "marker": {
          "color": "#EF553B",
          "pattern": {
           "shape": ""
          }
         },
         "name": "At Risk",
         "offsetgroup": "At Risk",
         "orientation": "v",
         "showlegend": true,
         "textposition": "auto",
         "type": "bar",
         "x": [
          "At Risk"
         ],
         "xaxis": "x",
         "y": [
          484
         ],
         "yaxis": "y"
        },
        {
         "alignmentgroup": "True",
         "hovertemplate": "segment=%{x}<br>Number of Customers=%{y}<extra></extra>",
         "legendgroup": "Cannot Lose Them",
         "marker": {
          "color": "#00cc96",
          "pattern": {
           "shape": ""
          }
         },
         "name": "Cannot Lose Them",
         "offsetgroup": "Cannot Lose Them",
         "orientation": "v",
         "showlegend": true,
         "textposition": "auto",
         "type": "bar",
         "x": [
          "Cannot Lose Them"
         ],
         "xaxis": "x",
         "y": [
          435
         ],
         "yaxis": "y"
        },
        {
         "alignmentgroup": "True",
         "hovertemplate": "segment=%{x}<br>Number of Customers=%{y}<extra></extra>",
         "legendgroup": "Champions",
         "marker": {
          "color": "#ab63fa",
          "pattern": {
           "shape": ""
          }
         },
         "name": "Champions",
         "offsetgroup": "Champions",
         "orientation": "v",
         "showlegend": true,
         "textposition": "auto",
         "type": "bar",
         "x": [
          "Champions"
         ],
         "xaxis": "x",
         "y": [
          332
         ],
         "yaxis": "y"
        },
        {
         "alignmentgroup": "True",
         "hovertemplate": "segment=%{x}<br>Number of Customers=%{y}<extra></extra>",
         "legendgroup": "Hibernating customers",
         "marker": {
          "color": "#FFA15A",
          "pattern": {
           "shape": ""
          }
         },
         "name": "Hibernating customers",
         "offsetgroup": "Hibernating customers",
         "orientation": "v",
         "showlegend": true,
         "textposition": "auto",
         "type": "bar",
         "x": [
          "Hibernating customers"
         ],
         "xaxis": "x",
         "y": [
          480
         ],
         "yaxis": "y"
        },
        {
         "alignmentgroup": "True",
         "hovertemplate": "segment=%{x}<br>Number of Customers=%{y}<extra></extra>",
         "legendgroup": "Lost customers",
         "marker": {
          "color": "#19d3f3",
          "pattern": {
           "shape": ""
          }
         },
         "name": "Lost customers",
         "offsetgroup": "Lost customers",
         "orientation": "v",
         "showlegend": true,
         "textposition": "auto",
         "type": "bar",
         "x": [
          "Lost customers"
         ],
         "xaxis": "x",
         "y": [
          252
         ],
         "yaxis": "y"
        },
        {
         "alignmentgroup": "True",
         "hovertemplate": "segment=%{x}<br>Number of Customers=%{y}<extra></extra>",
         "legendgroup": "Need Attention",
         "marker": {
          "color": "#FF6692",
          "pattern": {
           "shape": ""
          }
         },
         "name": "Need Attention",
         "offsetgroup": "Need Attention",
         "orientation": "v",
         "showlegend": true,
         "textposition": "auto",
         "type": "bar",
         "x": [
          "Need Attention"
         ],
         "xaxis": "x",
         "y": [
          310
         ],
         "yaxis": "y"
        },
        {
         "alignmentgroup": "True",
         "hovertemplate": "segment=%{x}<br>Number of Customers=%{y}<extra></extra>",
         "legendgroup": "New Customers",
         "marker": {
          "color": "#B6E880",
          "pattern": {
           "shape": ""
          }
         },
         "name": "New Customers",
         "offsetgroup": "New Customers",
         "orientation": "v",
         "showlegend": true,
         "textposition": "auto",
         "type": "bar",
         "x": [
          "New Customers"
         ],
         "xaxis": "x",
         "y": [
          80
         ],
         "yaxis": "y"
        },
        {
         "alignmentgroup": "True",
         "hovertemplate": "segment=%{x}<br>Number of Customers=%{y}<extra></extra>",
         "legendgroup": "Promising",
         "marker": {
          "color": "#FF97FF",
          "pattern": {
           "shape": ""
          }
         },
         "name": "Promising",
         "offsetgroup": "Promising",
         "orientation": "v",
         "showlegend": true,
         "textposition": "auto",
         "type": "bar",
         "x": [
          "Promising"
         ],
         "xaxis": "x",
         "y": [
          376
         ],
         "yaxis": "y"
        }
       ],
       "layout": {
        "barmode": "relative",
        "legend": {
         "title": {
          "text": "segment"
         },
         "tracegroupgap": 0
        },
        "margin": {
         "t": 60
        },
        "template": {
         "data": {
          "bar": [
           {
            "error_x": {
             "color": "#2a3f5f"
            },
            "error_y": {
             "color": "#2a3f5f"
            },
            "marker": {
             "line": {
              "color": "#E5ECF6",
              "width": 0.5
             },
             "pattern": {
              "fillmode": "overlay",
              "size": 10,
              "solidity": 0.2
             }
            },
            "type": "bar"
           }
          ],
          "barpolar": [
           {
            "marker": {
             "line": {
              "color": "#E5ECF6",
              "width": 0.5
             },
             "pattern": {
              "fillmode": "overlay",
              "size": 10,
              "solidity": 0.2
             }
            },
            "type": "barpolar"
           }
          ],
          "carpet": [
           {
            "aaxis": {
             "endlinecolor": "#2a3f5f",
             "gridcolor": "white",
             "linecolor": "white",
             "minorgridcolor": "white",
             "startlinecolor": "#2a3f5f"
            },
            "baxis": {
             "endlinecolor": "#2a3f5f",
             "gridcolor": "white",
             "linecolor": "white",
             "minorgridcolor": "white",
             "startlinecolor": "#2a3f5f"
            },
            "type": "carpet"
           }
          ],
          "choropleth": [
           {
            "colorbar": {
             "outlinewidth": 0,
             "ticks": ""
            },
            "type": "choropleth"
           }
          ],
          "contour": [
           {
            "colorbar": {
             "outlinewidth": 0,
             "ticks": ""
            },
            "colorscale": [
             [
              0,
              "#0d0887"
             ],
             [
              0.1111111111111111,
              "#46039f"
             ],
             [
              0.2222222222222222,
              "#7201a8"
             ],
             [
              0.3333333333333333,
              "#9c179e"
             ],
             [
              0.4444444444444444,
              "#bd3786"
             ],
             [
              0.5555555555555556,
              "#d8576b"
             ],
             [
              0.6666666666666666,
              "#ed7953"
             ],
             [
              0.7777777777777778,
              "#fb9f3a"
             ],
             [
              0.8888888888888888,
              "#fdca26"
             ],
             [
              1,
              "#f0f921"
             ]
            ],
            "type": "contour"
           }
          ],
          "contourcarpet": [
           {
            "colorbar": {
             "outlinewidth": 0,
             "ticks": ""
            },
            "type": "contourcarpet"
           }
          ],
          "heatmap": [
           {
            "colorbar": {
             "outlinewidth": 0,
             "ticks": ""
            },
            "colorscale": [
             [
              0,
              "#0d0887"
             ],
             [
              0.1111111111111111,
              "#46039f"
             ],
             [
              0.2222222222222222,
              "#7201a8"
             ],
             [
              0.3333333333333333,
              "#9c179e"
             ],
             [
              0.4444444444444444,
              "#bd3786"
             ],
             [
              0.5555555555555556,
              "#d8576b"
             ],
             [
              0.6666666666666666,
              "#ed7953"
             ],
             [
              0.7777777777777778,
              "#fb9f3a"
             ],
             [
              0.8888888888888888,
              "#fdca26"
             ],
             [
              1,
              "#f0f921"
             ]
            ],
            "type": "heatmap"
           }
          ],
          "heatmapgl": [
           {
            "colorbar": {
             "outlinewidth": 0,
             "ticks": ""
            },
            "colorscale": [
             [
              0,
              "#0d0887"
             ],
             [
              0.1111111111111111,
              "#46039f"
             ],
             [
              0.2222222222222222,
              "#7201a8"
             ],
             [
              0.3333333333333333,
              "#9c179e"
             ],
             [
              0.4444444444444444,
              "#bd3786"
             ],
             [
              0.5555555555555556,
              "#d8576b"
             ],
             [
              0.6666666666666666,
              "#ed7953"
             ],
             [
              0.7777777777777778,
              "#fb9f3a"
             ],
             [
              0.8888888888888888,
              "#fdca26"
             ],
             [
              1,
              "#f0f921"
             ]
            ],
            "type": "heatmapgl"
           }
          ],
          "histogram": [
           {
            "marker": {
             "pattern": {
              "fillmode": "overlay",
              "size": 10,
              "solidity": 0.2
             }
            },
            "type": "histogram"
           }
          ],
          "histogram2d": [
           {
            "colorbar": {
             "outlinewidth": 0,
             "ticks": ""
            },
            "colorscale": [
             [
              0,
              "#0d0887"
             ],
             [
              0.1111111111111111,
              "#46039f"
             ],
             [
              0.2222222222222222,
              "#7201a8"
             ],
             [
              0.3333333333333333,
              "#9c179e"
             ],
             [
              0.4444444444444444,
              "#bd3786"
             ],
             [
              0.5555555555555556,
              "#d8576b"
             ],
             [
              0.6666666666666666,
              "#ed7953"
             ],
             [
              0.7777777777777778,
              "#fb9f3a"
             ],
             [
              0.8888888888888888,
              "#fdca26"
             ],
             [
              1,
              "#f0f921"
             ]
            ],
            "type": "histogram2d"
           }
          ],
          "histogram2dcontour": [
           {
            "colorbar": {
             "outlinewidth": 0,
             "ticks": ""
            },
            "colorscale": [
             [
              0,
              "#0d0887"
             ],
             [
              0.1111111111111111,
              "#46039f"
             ],
             [
              0.2222222222222222,
              "#7201a8"
             ],
             [
              0.3333333333333333,
              "#9c179e"
             ],
             [
              0.4444444444444444,
              "#bd3786"
             ],
             [
              0.5555555555555556,
              "#d8576b"
             ],
             [
              0.6666666666666666,
              "#ed7953"
             ],
             [
              0.7777777777777778,
              "#fb9f3a"
             ],
             [
              0.8888888888888888,
              "#fdca26"
             ],
             [
              1,
              "#f0f921"
             ]
            ],
            "type": "histogram2dcontour"
           }
          ],
          "mesh3d": [
           {
            "colorbar": {
             "outlinewidth": 0,
             "ticks": ""
            },
            "type": "mesh3d"
           }
          ],
          "parcoords": [
           {
            "line": {
             "colorbar": {
              "outlinewidth": 0,
              "ticks": ""
             }
            },
            "type": "parcoords"
           }
          ],
          "pie": [
           {
            "automargin": true,
            "type": "pie"
           }
          ],
          "scatter": [
           {
            "fillpattern": {
             "fillmode": "overlay",
             "size": 10,
             "solidity": 0.2
            },
            "type": "scatter"
           }
          ],
          "scatter3d": [
           {
            "line": {
             "colorbar": {
              "outlinewidth": 0,
              "ticks": ""
             }
            },
            "marker": {
             "colorbar": {
              "outlinewidth": 0,
              "ticks": ""
             }
            },
            "type": "scatter3d"
           }
          ],
          "scattercarpet": [
           {
            "marker": {
             "colorbar": {
              "outlinewidth": 0,
              "ticks": ""
             }
            },
            "type": "scattercarpet"
           }
          ],
          "scattergeo": [
           {
            "marker": {
             "colorbar": {
              "outlinewidth": 0,
              "ticks": ""
             }
            },
            "type": "scattergeo"
           }
          ],
          "scattergl": [
           {
            "marker": {
             "colorbar": {
              "outlinewidth": 0,
              "ticks": ""
             }
            },
            "type": "scattergl"
           }
          ],
          "scattermapbox": [
           {
            "marker": {
             "colorbar": {
              "outlinewidth": 0,
              "ticks": ""
             }
            },
            "type": "scattermapbox"
           }
          ],
          "scatterpolar": [
           {
            "marker": {
             "colorbar": {
              "outlinewidth": 0,
              "ticks": ""
             }
            },
            "type": "scatterpolar"
           }
          ],
          "scatterpolargl": [
           {
            "marker": {
             "colorbar": {
              "outlinewidth": 0,
              "ticks": ""
             }
            },
            "type": "scatterpolargl"
           }
          ],
          "scatterternary": [
           {
            "marker": {
             "colorbar": {
              "outlinewidth": 0,
              "ticks": ""
             }
            },
            "type": "scatterternary"
           }
          ],
          "surface": [
           {
            "colorbar": {
             "outlinewidth": 0,
             "ticks": ""
            },
            "colorscale": [
             [
              0,
              "#0d0887"
             ],
             [
              0.1111111111111111,
              "#46039f"
             ],
             [
              0.2222222222222222,
              "#7201a8"
             ],
             [
              0.3333333333333333,
              "#9c179e"
             ],
             [
              0.4444444444444444,
              "#bd3786"
             ],
             [
              0.5555555555555556,
              "#d8576b"
             ],
             [
              0.6666666666666666,
              "#ed7953"
             ],
             [
              0.7777777777777778,
              "#fb9f3a"
             ],
             [
              0.8888888888888888,
              "#fdca26"
             ],
             [
              1,
              "#f0f921"
             ]
            ],
            "type": "surface"
           }
          ],
          "table": [
           {
            "cells": {
             "fill": {
              "color": "#EBF0F8"
             },
             "line": {
              "color": "white"
             }
            },
            "header": {
             "fill": {
              "color": "#C8D4E3"
             },
             "line": {
              "color": "white"
             }
            },
            "type": "table"
           }
          ]
         },
         "layout": {
          "annotationdefaults": {
           "arrowcolor": "#2a3f5f",
           "arrowhead": 0,
           "arrowwidth": 1
          },
          "autotypenumbers": "strict",
          "coloraxis": {
           "colorbar": {
            "outlinewidth": 0,
            "ticks": ""
           }
          },
          "colorscale": {
           "diverging": [
            [
             0,
             "#8e0152"
            ],
            [
             0.1,
             "#c51b7d"
            ],
            [
             0.2,
             "#de77ae"
            ],
            [
             0.3,
             "#f1b6da"
            ],
            [
             0.4,
             "#fde0ef"
            ],
            [
             0.5,
             "#f7f7f7"
            ],
            [
             0.6,
             "#e6f5d0"
            ],
            [
             0.7,
             "#b8e186"
            ],
            [
             0.8,
             "#7fbc41"
            ],
            [
             0.9,
             "#4d9221"
            ],
            [
             1,
             "#276419"
            ]
           ],
           "sequential": [
            [
             0,
             "#0d0887"
            ],
            [
             0.1111111111111111,
             "#46039f"
            ],
            [
             0.2222222222222222,
             "#7201a8"
            ],
            [
             0.3333333333333333,
             "#9c179e"
            ],
            [
             0.4444444444444444,
             "#bd3786"
            ],
            [
             0.5555555555555556,
             "#d8576b"
            ],
            [
             0.6666666666666666,
             "#ed7953"
            ],
            [
             0.7777777777777778,
             "#fb9f3a"
            ],
            [
             0.8888888888888888,
             "#fdca26"
            ],
            [
             1,
             "#f0f921"
            ]
           ],
           "sequentialminus": [
            [
             0,
             "#0d0887"
            ],
            [
             0.1111111111111111,
             "#46039f"
            ],
            [
             0.2222222222222222,
             "#7201a8"
            ],
            [
             0.3333333333333333,
             "#9c179e"
            ],
            [
             0.4444444444444444,
             "#bd3786"
            ],
            [
             0.5555555555555556,
             "#d8576b"
            ],
            [
             0.6666666666666666,
             "#ed7953"
            ],
            [
             0.7777777777777778,
             "#fb9f3a"
            ],
            [
             0.8888888888888888,
             "#fdca26"
            ],
            [
             1,
             "#f0f921"
            ]
           ]
          },
          "colorway": [
           "#636efa",
           "#EF553B",
           "#00cc96",
           "#ab63fa",
           "#FFA15A",
           "#19d3f3",
           "#FF6692",
           "#B6E880",
           "#FF97FF",
           "#FECB52"
          ],
          "font": {
           "color": "#2a3f5f"
          },
          "geo": {
           "bgcolor": "white",
           "lakecolor": "white",
           "landcolor": "#E5ECF6",
           "showlakes": true,
           "showland": true,
           "subunitcolor": "white"
          },
          "hoverlabel": {
           "align": "left"
          },
          "hovermode": "closest",
          "mapbox": {
           "style": "light"
          },
          "paper_bgcolor": "white",
          "plot_bgcolor": "#E5ECF6",
          "polar": {
           "angularaxis": {
            "gridcolor": "white",
            "linecolor": "white",
            "ticks": ""
           },
           "bgcolor": "#E5ECF6",
           "radialaxis": {
            "gridcolor": "white",
            "linecolor": "white",
            "ticks": ""
           }
          },
          "scene": {
           "xaxis": {
            "backgroundcolor": "#E5ECF6",
            "gridcolor": "white",
            "gridwidth": 2,
            "linecolor": "white",
            "showbackground": true,
            "ticks": "",
            "zerolinecolor": "white"
           },
           "yaxis": {
            "backgroundcolor": "#E5ECF6",
            "gridcolor": "white",
            "gridwidth": 2,
            "linecolor": "white",
            "showbackground": true,
            "ticks": "",
            "zerolinecolor": "white"
           },
           "zaxis": {
            "backgroundcolor": "#E5ECF6",
            "gridcolor": "white",
            "gridwidth": 2,
            "linecolor": "white",
            "showbackground": true,
            "ticks": "",
            "zerolinecolor": "white"
           }
          },
          "shapedefaults": {
           "line": {
            "color": "#2a3f5f"
           }
          },
          "ternary": {
           "aaxis": {
            "gridcolor": "white",
            "linecolor": "white",
            "ticks": ""
           },
           "baxis": {
            "gridcolor": "white",
            "linecolor": "white",
            "ticks": ""
           },
           "bgcolor": "#E5ECF6",
           "caxis": {
            "gridcolor": "white",
            "linecolor": "white",
            "ticks": ""
           }
          },
          "title": {
           "x": 0.05
          },
          "xaxis": {
           "automargin": true,
           "gridcolor": "white",
           "linecolor": "white",
           "ticks": "",
           "title": {
            "standoff": 15
           },
           "zerolinecolor": "white",
           "zerolinewidth": 2
          },
          "yaxis": {
           "automargin": true,
           "gridcolor": "white",
           "linecolor": "white",
           "ticks": "",
           "title": {
            "standoff": 15
           },
           "zerolinecolor": "white",
           "zerolinewidth": 2
          }
         }
        },
        "xaxis": {
         "anchor": "y",
         "categoryarray": [
          "About To Sleep",
          "At Risk",
          "Cannot Lose Them",
          "Champions",
          "Hibernating customers",
          "Lost customers",
          "Need Attention",
          "New Customers",
          "Promising"
         ],
         "categoryorder": "array",
         "domain": [
          0,
          1
         ],
         "title": {
          "text": "segment"
         }
        },
        "yaxis": {
         "anchor": "x",
         "domain": [
          0,
          1
         ],
         "title": {
          "text": "Number of Customers"
         }
        }
       }
      }
     },
     "metadata": {},
     "output_type": "display_data"
    }
   ],
   "source": [
    "df_aux = df_seg.groupby('segment').count()['customer_id'].reset_index().rename(columns={'customer_id': 'number_customers'})\n",
    "\n",
    "px.bar(df_aux, x='segment', y='number_customers', color='segment',\n",
    "       labels={'number_customers': 'Number of Customers'})"
   ]
  },
  {
   "cell_type": "code",
   "execution_count": 247,
   "id": "b54abed6",
   "metadata": {},
   "outputs": [
    {
     "data": {
      "application/vnd.plotly.v1+json": {
       "config": {
        "plotlyServerURL": "https://plot.ly"
       },
       "data": [
        {
         "branchvalues": "total",
         "customdata": [
          [
           "New Customers"
          ],
          [
           "Lost customers"
          ],
          [
           "About To Sleep"
          ],
          [
           "Need Attention"
          ],
          [
           "Champions"
          ],
          [
           "Promising"
          ],
          [
           "Cannot Lose Them"
          ],
          [
           "Hibernating customers"
          ],
          [
           "At Risk"
          ],
          [
           "About To Sleep"
          ],
          [
           "At Risk"
          ],
          [
           "Cannot Lose Them"
          ],
          [
           "Champions"
          ],
          [
           "Hibernating customers"
          ],
          [
           "Lost customers"
          ],
          [
           "Need Attention"
          ],
          [
           "New Customers"
          ],
          [
           "Promising"
          ],
          [
           "(?)"
          ]
         ],
         "domain": {
          "x": [
           0,
           1
          ],
          "y": [
           0,
           1
          ]
         },
         "hovertemplate": "labels=%{label}<br>number_customers=%{value}<br>parent=%{parent}<br>id=%{id}<br>segment=%{customdata[0]}<extra></extra>",
         "ids": [
          "all/New Customers/80",
          "all/Lost customers/252",
          "all/About To Sleep/255",
          "all/Need Attention/310",
          "all/Champions/332",
          "all/Promising/376",
          "all/Cannot Lose Them/435",
          "all/Hibernating customers/480",
          "all/At Risk/484",
          "all/About To Sleep",
          "all/At Risk",
          "all/Cannot Lose Them",
          "all/Champions",
          "all/Hibernating customers",
          "all/Lost customers",
          "all/Need Attention",
          "all/New Customers",
          "all/Promising",
          "all"
         ],
         "labels": [
          "80",
          "252",
          "255",
          "310",
          "332",
          "376",
          "435",
          "480",
          "484",
          "About To Sleep",
          "At Risk",
          "Cannot Lose Them",
          "Champions",
          "Hibernating customers",
          "Lost customers",
          "Need Attention",
          "New Customers",
          "Promising",
          "all"
         ],
         "marker": {
          "colors": [
           "#636efa",
           "#EF553B",
           "#00cc96",
           "#ab63fa",
           "#FFA15A",
           "#19d3f3",
           "#FF6692",
           "#B6E880",
           "#FF97FF",
           "#00cc96",
           "#FF97FF",
           "#FF6692",
           "#FFA15A",
           "#B6E880",
           "#EF553B",
           "#ab63fa",
           "#636efa",
           "#19d3f3",
           "#FECB52"
          ]
         },
         "name": "",
         "parents": [
          "all/New Customers",
          "all/Lost customers",
          "all/About To Sleep",
          "all/Need Attention",
          "all/Champions",
          "all/Promising",
          "all/Cannot Lose Them",
          "all/Hibernating customers",
          "all/At Risk",
          "all",
          "all",
          "all",
          "all",
          "all",
          "all",
          "all",
          "all",
          "all",
          ""
         ],
         "root": {
          "color": "lightgrey"
         },
         "type": "treemap",
         "values": [
          80,
          252,
          255,
          310,
          332,
          376,
          435,
          480,
          484,
          255,
          484,
          435,
          332,
          480,
          252,
          310,
          80,
          376,
          3004
         ]
        }
       ],
       "layout": {
        "legend": {
         "tracegroupgap": 0
        },
        "margin": {
         "b": 25,
         "l": 25,
         "r": 25,
         "t": 50
        },
        "template": {
         "data": {
          "bar": [
           {
            "error_x": {
             "color": "#2a3f5f"
            },
            "error_y": {
             "color": "#2a3f5f"
            },
            "marker": {
             "line": {
              "color": "#E5ECF6",
              "width": 0.5
             },
             "pattern": {
              "fillmode": "overlay",
              "size": 10,
              "solidity": 0.2
             }
            },
            "type": "bar"
           }
          ],
          "barpolar": [
           {
            "marker": {
             "line": {
              "color": "#E5ECF6",
              "width": 0.5
             },
             "pattern": {
              "fillmode": "overlay",
              "size": 10,
              "solidity": 0.2
             }
            },
            "type": "barpolar"
           }
          ],
          "carpet": [
           {
            "aaxis": {
             "endlinecolor": "#2a3f5f",
             "gridcolor": "white",
             "linecolor": "white",
             "minorgridcolor": "white",
             "startlinecolor": "#2a3f5f"
            },
            "baxis": {
             "endlinecolor": "#2a3f5f",
             "gridcolor": "white",
             "linecolor": "white",
             "minorgridcolor": "white",
             "startlinecolor": "#2a3f5f"
            },
            "type": "carpet"
           }
          ],
          "choropleth": [
           {
            "colorbar": {
             "outlinewidth": 0,
             "ticks": ""
            },
            "type": "choropleth"
           }
          ],
          "contour": [
           {
            "colorbar": {
             "outlinewidth": 0,
             "ticks": ""
            },
            "colorscale": [
             [
              0,
              "#0d0887"
             ],
             [
              0.1111111111111111,
              "#46039f"
             ],
             [
              0.2222222222222222,
              "#7201a8"
             ],
             [
              0.3333333333333333,
              "#9c179e"
             ],
             [
              0.4444444444444444,
              "#bd3786"
             ],
             [
              0.5555555555555556,
              "#d8576b"
             ],
             [
              0.6666666666666666,
              "#ed7953"
             ],
             [
              0.7777777777777778,
              "#fb9f3a"
             ],
             [
              0.8888888888888888,
              "#fdca26"
             ],
             [
              1,
              "#f0f921"
             ]
            ],
            "type": "contour"
           }
          ],
          "contourcarpet": [
           {
            "colorbar": {
             "outlinewidth": 0,
             "ticks": ""
            },
            "type": "contourcarpet"
           }
          ],
          "heatmap": [
           {
            "colorbar": {
             "outlinewidth": 0,
             "ticks": ""
            },
            "colorscale": [
             [
              0,
              "#0d0887"
             ],
             [
              0.1111111111111111,
              "#46039f"
             ],
             [
              0.2222222222222222,
              "#7201a8"
             ],
             [
              0.3333333333333333,
              "#9c179e"
             ],
             [
              0.4444444444444444,
              "#bd3786"
             ],
             [
              0.5555555555555556,
              "#d8576b"
             ],
             [
              0.6666666666666666,
              "#ed7953"
             ],
             [
              0.7777777777777778,
              "#fb9f3a"
             ],
             [
              0.8888888888888888,
              "#fdca26"
             ],
             [
              1,
              "#f0f921"
             ]
            ],
            "type": "heatmap"
           }
          ],
          "heatmapgl": [
           {
            "colorbar": {
             "outlinewidth": 0,
             "ticks": ""
            },
            "colorscale": [
             [
              0,
              "#0d0887"
             ],
             [
              0.1111111111111111,
              "#46039f"
             ],
             [
              0.2222222222222222,
              "#7201a8"
             ],
             [
              0.3333333333333333,
              "#9c179e"
             ],
             [
              0.4444444444444444,
              "#bd3786"
             ],
             [
              0.5555555555555556,
              "#d8576b"
             ],
             [
              0.6666666666666666,
              "#ed7953"
             ],
             [
              0.7777777777777778,
              "#fb9f3a"
             ],
             [
              0.8888888888888888,
              "#fdca26"
             ],
             [
              1,
              "#f0f921"
             ]
            ],
            "type": "heatmapgl"
           }
          ],
          "histogram": [
           {
            "marker": {
             "pattern": {
              "fillmode": "overlay",
              "size": 10,
              "solidity": 0.2
             }
            },
            "type": "histogram"
           }
          ],
          "histogram2d": [
           {
            "colorbar": {
             "outlinewidth": 0,
             "ticks": ""
            },
            "colorscale": [
             [
              0,
              "#0d0887"
             ],
             [
              0.1111111111111111,
              "#46039f"
             ],
             [
              0.2222222222222222,
              "#7201a8"
             ],
             [
              0.3333333333333333,
              "#9c179e"
             ],
             [
              0.4444444444444444,
              "#bd3786"
             ],
             [
              0.5555555555555556,
              "#d8576b"
             ],
             [
              0.6666666666666666,
              "#ed7953"
             ],
             [
              0.7777777777777778,
              "#fb9f3a"
             ],
             [
              0.8888888888888888,
              "#fdca26"
             ],
             [
              1,
              "#f0f921"
             ]
            ],
            "type": "histogram2d"
           }
          ],
          "histogram2dcontour": [
           {
            "colorbar": {
             "outlinewidth": 0,
             "ticks": ""
            },
            "colorscale": [
             [
              0,
              "#0d0887"
             ],
             [
              0.1111111111111111,
              "#46039f"
             ],
             [
              0.2222222222222222,
              "#7201a8"
             ],
             [
              0.3333333333333333,
              "#9c179e"
             ],
             [
              0.4444444444444444,
              "#bd3786"
             ],
             [
              0.5555555555555556,
              "#d8576b"
             ],
             [
              0.6666666666666666,
              "#ed7953"
             ],
             [
              0.7777777777777778,
              "#fb9f3a"
             ],
             [
              0.8888888888888888,
              "#fdca26"
             ],
             [
              1,
              "#f0f921"
             ]
            ],
            "type": "histogram2dcontour"
           }
          ],
          "mesh3d": [
           {
            "colorbar": {
             "outlinewidth": 0,
             "ticks": ""
            },
            "type": "mesh3d"
           }
          ],
          "parcoords": [
           {
            "line": {
             "colorbar": {
              "outlinewidth": 0,
              "ticks": ""
             }
            },
            "type": "parcoords"
           }
          ],
          "pie": [
           {
            "automargin": true,
            "type": "pie"
           }
          ],
          "scatter": [
           {
            "fillpattern": {
             "fillmode": "overlay",
             "size": 10,
             "solidity": 0.2
            },
            "type": "scatter"
           }
          ],
          "scatter3d": [
           {
            "line": {
             "colorbar": {
              "outlinewidth": 0,
              "ticks": ""
             }
            },
            "marker": {
             "colorbar": {
              "outlinewidth": 0,
              "ticks": ""
             }
            },
            "type": "scatter3d"
           }
          ],
          "scattercarpet": [
           {
            "marker": {
             "colorbar": {
              "outlinewidth": 0,
              "ticks": ""
             }
            },
            "type": "scattercarpet"
           }
          ],
          "scattergeo": [
           {
            "marker": {
             "colorbar": {
              "outlinewidth": 0,
              "ticks": ""
             }
            },
            "type": "scattergeo"
           }
          ],
          "scattergl": [
           {
            "marker": {
             "colorbar": {
              "outlinewidth": 0,
              "ticks": ""
             }
            },
            "type": "scattergl"
           }
          ],
          "scattermapbox": [
           {
            "marker": {
             "colorbar": {
              "outlinewidth": 0,
              "ticks": ""
             }
            },
            "type": "scattermapbox"
           }
          ],
          "scatterpolar": [
           {
            "marker": {
             "colorbar": {
              "outlinewidth": 0,
              "ticks": ""
             }
            },
            "type": "scatterpolar"
           }
          ],
          "scatterpolargl": [
           {
            "marker": {
             "colorbar": {
              "outlinewidth": 0,
              "ticks": ""
             }
            },
            "type": "scatterpolargl"
           }
          ],
          "scatterternary": [
           {
            "marker": {
             "colorbar": {
              "outlinewidth": 0,
              "ticks": ""
             }
            },
            "type": "scatterternary"
           }
          ],
          "surface": [
           {
            "colorbar": {
             "outlinewidth": 0,
             "ticks": ""
            },
            "colorscale": [
             [
              0,
              "#0d0887"
             ],
             [
              0.1111111111111111,
              "#46039f"
             ],
             [
              0.2222222222222222,
              "#7201a8"
             ],
             [
              0.3333333333333333,
              "#9c179e"
             ],
             [
              0.4444444444444444,
              "#bd3786"
             ],
             [
              0.5555555555555556,
              "#d8576b"
             ],
             [
              0.6666666666666666,
              "#ed7953"
             ],
             [
              0.7777777777777778,
              "#fb9f3a"
             ],
             [
              0.8888888888888888,
              "#fdca26"
             ],
             [
              1,
              "#f0f921"
             ]
            ],
            "type": "surface"
           }
          ],
          "table": [
           {
            "cells": {
             "fill": {
              "color": "#EBF0F8"
             },
             "line": {
              "color": "white"
             }
            },
            "header": {
             "fill": {
              "color": "#C8D4E3"
             },
             "line": {
              "color": "white"
             }
            },
            "type": "table"
           }
          ]
         },
         "layout": {
          "annotationdefaults": {
           "arrowcolor": "#2a3f5f",
           "arrowhead": 0,
           "arrowwidth": 1
          },
          "autotypenumbers": "strict",
          "coloraxis": {
           "colorbar": {
            "outlinewidth": 0,
            "ticks": ""
           }
          },
          "colorscale": {
           "diverging": [
            [
             0,
             "#8e0152"
            ],
            [
             0.1,
             "#c51b7d"
            ],
            [
             0.2,
             "#de77ae"
            ],
            [
             0.3,
             "#f1b6da"
            ],
            [
             0.4,
             "#fde0ef"
            ],
            [
             0.5,
             "#f7f7f7"
            ],
            [
             0.6,
             "#e6f5d0"
            ],
            [
             0.7,
             "#b8e186"
            ],
            [
             0.8,
             "#7fbc41"
            ],
            [
             0.9,
             "#4d9221"
            ],
            [
             1,
             "#276419"
            ]
           ],
           "sequential": [
            [
             0,
             "#0d0887"
            ],
            [
             0.1111111111111111,
             "#46039f"
            ],
            [
             0.2222222222222222,
             "#7201a8"
            ],
            [
             0.3333333333333333,
             "#9c179e"
            ],
            [
             0.4444444444444444,
             "#bd3786"
            ],
            [
             0.5555555555555556,
             "#d8576b"
            ],
            [
             0.6666666666666666,
             "#ed7953"
            ],
            [
             0.7777777777777778,
             "#fb9f3a"
            ],
            [
             0.8888888888888888,
             "#fdca26"
            ],
            [
             1,
             "#f0f921"
            ]
           ],
           "sequentialminus": [
            [
             0,
             "#0d0887"
            ],
            [
             0.1111111111111111,
             "#46039f"
            ],
            [
             0.2222222222222222,
             "#7201a8"
            ],
            [
             0.3333333333333333,
             "#9c179e"
            ],
            [
             0.4444444444444444,
             "#bd3786"
            ],
            [
             0.5555555555555556,
             "#d8576b"
            ],
            [
             0.6666666666666666,
             "#ed7953"
            ],
            [
             0.7777777777777778,
             "#fb9f3a"
            ],
            [
             0.8888888888888888,
             "#fdca26"
            ],
            [
             1,
             "#f0f921"
            ]
           ]
          },
          "colorway": [
           "#636efa",
           "#EF553B",
           "#00cc96",
           "#ab63fa",
           "#FFA15A",
           "#19d3f3",
           "#FF6692",
           "#B6E880",
           "#FF97FF",
           "#FECB52"
          ],
          "font": {
           "color": "#2a3f5f"
          },
          "geo": {
           "bgcolor": "white",
           "lakecolor": "white",
           "landcolor": "#E5ECF6",
           "showlakes": true,
           "showland": true,
           "subunitcolor": "white"
          },
          "hoverlabel": {
           "align": "left"
          },
          "hovermode": "closest",
          "mapbox": {
           "style": "light"
          },
          "paper_bgcolor": "white",
          "plot_bgcolor": "#E5ECF6",
          "polar": {
           "angularaxis": {
            "gridcolor": "white",
            "linecolor": "white",
            "ticks": ""
           },
           "bgcolor": "#E5ECF6",
           "radialaxis": {
            "gridcolor": "white",
            "linecolor": "white",
            "ticks": ""
           }
          },
          "scene": {
           "xaxis": {
            "backgroundcolor": "#E5ECF6",
            "gridcolor": "white",
            "gridwidth": 2,
            "linecolor": "white",
            "showbackground": true,
            "ticks": "",
            "zerolinecolor": "white"
           },
           "yaxis": {
            "backgroundcolor": "#E5ECF6",
            "gridcolor": "white",
            "gridwidth": 2,
            "linecolor": "white",
            "showbackground": true,
            "ticks": "",
            "zerolinecolor": "white"
           },
           "zaxis": {
            "backgroundcolor": "#E5ECF6",
            "gridcolor": "white",
            "gridwidth": 2,
            "linecolor": "white",
            "showbackground": true,
            "ticks": "",
            "zerolinecolor": "white"
           }
          },
          "shapedefaults": {
           "line": {
            "color": "#2a3f5f"
           }
          },
          "ternary": {
           "aaxis": {
            "gridcolor": "white",
            "linecolor": "white",
            "ticks": ""
           },
           "baxis": {
            "gridcolor": "white",
            "linecolor": "white",
            "ticks": ""
           },
           "bgcolor": "#E5ECF6",
           "caxis": {
            "gridcolor": "white",
            "linecolor": "white",
            "ticks": ""
           }
          },
          "title": {
           "x": 0.05
          },
          "xaxis": {
           "automargin": true,
           "gridcolor": "white",
           "linecolor": "white",
           "ticks": "",
           "title": {
            "standoff": 15
           },
           "zerolinecolor": "white",
           "zerolinewidth": 2
          },
          "yaxis": {
           "automargin": true,
           "gridcolor": "white",
           "linecolor": "white",
           "ticks": "",
           "title": {
            "standoff": 15
           },
           "zerolinecolor": "white",
           "zerolinewidth": 2
          }
         }
        }
       }
      }
     },
     "metadata": {},
     "output_type": "display_data"
    }
   ],
   "source": [
    "fig = px.treemap(df_aux, path=[px.Constant(\"all\"), 'segment', 'number_customers'], values='number_customers', color='segment')\n",
    "fig.update_traces(root_color='lightgrey')\n",
    "fig.update_layout(margin=dict(t=50, l=25, r=25, b=25))"
   ]
  },
  {
   "cell_type": "markdown",
   "id": "6adfc1a0",
   "metadata": {},
   "source": [
    "![green-divider](https://user-images.githubusercontent.com/7065401/52071924-c003ad80-2562-11e9-8297-1c6595f8a7ff.png)\n"
   ]
  },
  {
   "attachments": {},
   "cell_type": "markdown",
   "id": "af8301a1",
   "metadata": {},
   "source": [
    "# 6.0. Feature Selection"
   ]
  },
  {
   "cell_type": "markdown",
   "id": "4c5ad535",
   "metadata": {},
   "source": [
    "![green-divider](https://user-images.githubusercontent.com/7065401/52071924-c003ad80-2562-11e9-8297-1c6595f8a7ff.png)\n"
   ]
  },
  {
   "cell_type": "markdown",
   "id": "872c5ea0",
   "metadata": {},
   "source": [
    "# 7.0. Machine Learning Modelling"
   ]
  },
  {
   "cell_type": "markdown",
   "id": "c6a19e50",
   "metadata": {},
   "source": [
    "![green-divider](https://user-images.githubusercontent.com/7065401/52071924-c003ad80-2562-11e9-8297-1c6595f8a7ff.png)\n"
   ]
  },
  {
   "cell_type": "markdown",
   "id": "18cbf1dd",
   "metadata": {},
   "source": [
    "# 8.0. Convert Model Performance to Business Values"
   ]
  }
 ],
 "metadata": {
  "kernelspec": {
   "display_name": "Python 3 (ipykernel)",
   "language": "python",
   "name": "python3"
  },
  "language_info": {
   "codemirror_mode": {
    "name": "ipython",
    "version": 3
   },
   "file_extension": ".py",
   "mimetype": "text/x-python",
   "name": "python",
   "nbconvert_exporter": "python",
   "pygments_lexer": "ipython3",
   "version": "3.9.12"
  },
  "toc-autonumbering": false
 },
 "nbformat": 4,
 "nbformat_minor": 5
}
